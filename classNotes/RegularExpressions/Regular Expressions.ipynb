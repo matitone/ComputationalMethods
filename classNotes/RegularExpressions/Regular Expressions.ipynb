{
 "metadata": {
  "name": ""
 },
 "nbformat": 3,
 "nbformat_minor": 0,
 "worksheets": [
  {
   "cells": [
    {
     "cell_type": "markdown",
     "metadata": {},
     "source": [
      "\n",
      "* quantifiers:\n",
      "    * : any number [any amount]\n",
      "    ? : 0 or 1 [less than 2]\n",
      "    + : 1 or more [more than 0]\n",
      "    {1,10}: between m and n, inclusive"
     ]
    },
    {
     "cell_type": "code",
     "collapsed": false,
     "input": [
      "import re"
     ],
     "language": "python",
     "metadata": {},
     "outputs": [],
     "prompt_number": 1
    },
    {
     "cell_type": "code",
     "collapsed": false,
     "input": [
      "print dir(re)"
     ],
     "language": "python",
     "metadata": {},
     "outputs": [
      {
       "output_type": "stream",
       "stream": "stdout",
       "text": [
        "['DEBUG', 'DOTALL', 'I', 'IGNORECASE', 'L', 'LOCALE', 'M', 'MULTILINE', 'S', 'Scanner', 'T', 'TEMPLATE', 'U', 'UNICODE', 'VERBOSE', 'X', '_MAXCACHE', '__all__', '__builtins__', '__doc__', '__file__', '__name__', '__package__', '__version__', '_alphanum', '_cache', '_cache_repl', '_compile', '_compile_repl', '_expand', '_pattern_type', '_pickle', '_subx', 'compile', 'copy_reg', 'error', 'escape', 'findall', 'finditer', 'match', 'purge', 'search', 'split', 'sre_compile', 'sre_parse', 'sub', 'subn', 'sys', 'template']\n"
       ]
      }
     ],
     "prompt_number": 3
    },
    {
     "cell_type": "code",
     "collapsed": false,
     "input": [
      "lookInHere= \" The meaning of the this sentence is what they the told me to say\""
     ],
     "language": "python",
     "metadata": {},
     "outputs": [],
     "prompt_number": 82
    },
    {
     "cell_type": "code",
     "collapsed": false,
     "input": [
      "help(re.match)"
     ],
     "language": "python",
     "metadata": {},
     "outputs": [
      {
       "output_type": "stream",
       "stream": "stdout",
       "text": [
        "Help on function match in module re:\n",
        "\n",
        "match(pattern, string, flags=0)\n",
        "    Try to apply the pattern at the start of the string, returning\n",
        "    a match object, or None if no match was found.\n",
        "\n"
       ]
      }
     ],
     "prompt_number": 97
    },
    {
     "cell_type": "code",
     "collapsed": false,
     "input": [
      "from re import VERBOSE\n",
      "pattern= r\"(?ix)the #this is a word\"\n",
      "for m in  re.finditer(pattern, lookInHere, VERBOSE):\n",
      "    print m.group(), m.span()\n",
      "    \n",
      "#allTWords = re.findall(r'\\bt\\w+', lookInHere)\n",
      "#print allTWords\n",
      "#print type(matchIter)\n",
      "#for match in matchIter:\n",
      "#    print match.span()"
     ],
     "language": "python",
     "metadata": {},
     "outputs": [
      {
       "output_type": "stream",
       "stream": "stdout",
       "text": [
        "The (1, 4)\n",
        "the (16, 19)\n",
        "the (42, 45)\n",
        "the (47, 50)\n"
       ]
      }
     ],
     "prompt_number": 96
    },
    {
     "cell_type": "code",
     "collapsed": false,
     "input": [
      "#print lookInHere\n",
      "pattern = r'the \\w+ \\w+'\n",
      "for match in  re.finditer(pattern, lookInHere):\n",
      "    print match.group()\n",
      "    print match.groups()\n",
      "    print match.groupdict()"
     ],
     "language": "python",
     "metadata": {},
     "outputs": [
      {
       "output_type": "stream",
       "stream": "stdout",
       "text": [
        "the this sentence\n",
        "()\n",
        "{}\n",
        "the told me\n",
        "()\n",
        "{}\n"
       ]
      }
     ],
     "prompt_number": 84
    },
    {
     "cell_type": "code",
     "collapsed": false,
     "input": [
      "help(re.search)"
     ],
     "language": "python",
     "metadata": {},
     "outputs": [
      {
       "output_type": "stream",
       "stream": "stdout",
       "text": [
        "Help on function search in module re:\n",
        "\n",
        "search(pattern, string, flags=0)\n",
        "    Scan through string looking for a match to the pattern, returning\n",
        "    a match object, or None if no match was found.\n",
        "\n"
       ]
      }
     ],
     "prompt_number": 16
    },
    {
     "cell_type": "code",
     "collapsed": false,
     "input": [
      "lookInHere2= \" The meaning, (of the this sentence) is-what they; the told me to say\""
     ],
     "language": "python",
     "metadata": {},
     "outputs": [],
     "prompt_number": 106
    },
    {
     "cell_type": "code",
     "collapsed": false,
     "input": [
      "print re.findall(r'\\w+', lookInHere2)\n",
      "print re.findall(r'\\b\\w+\\b', lookInHere2)"
     ],
     "language": "python",
     "metadata": {},
     "outputs": [
      {
       "output_type": "stream",
       "stream": "stdout",
       "text": [
        "['The', 'meaning', 'of', 'the', 'this', 'sentence', 'is', 'what', 'they', 'the', 'told', 'me', 'to', 'say']\n",
        "['The', 'meaning', 'of', 'the', 'this', 'sentence', 'is', 'what', 'they', 'the', 'told', 'me', 'to', 'say']\n"
       ]
      }
     ],
     "prompt_number": 101
    },
    {
     "cell_type": "code",
     "collapsed": false,
     "input": [
      "#print re.split(r'[-\\s;(),]', lookInHere2)\n",
      "print re.split(r'(\\W)', lookInHere2)\n"
     ],
     "language": "python",
     "metadata": {},
     "outputs": [
      {
       "output_type": "stream",
       "stream": "stdout",
       "text": [
        "['', ' ', 'The', ' ', 'meaning', ',', '', ' ', '', '(', 'of', ' ', 'the', ' ', 'this', ' ', 'sentence', ')', '', ' ', 'is', '-', 'what', ' ', 'they', ';', '', ' ', 'the', ' ', 'told', ' ', 'me', ' ', 'to', ' ', 'say']\n"
       ]
      }
     ],
     "prompt_number": 113
    },
    {
     "cell_type": "code",
     "collapsed": false,
     "input": [
      "re.sub(r'the (\\w+) (\\w+)', r'the \\2 \\1', lookInHere)"
     ],
     "language": "python",
     "metadata": {},
     "outputs": [
      {
       "metadata": {},
       "output_type": "pyout",
       "prompt_number": 120,
       "text": [
        "' The meaning of the sentence this is what they the me told to say'"
       ]
      }
     ],
     "prompt_number": 120
    },
    {
     "cell_type": "code",
     "collapsed": false,
     "input": [
      "delimRE = re.compile(r'\\W')\n",
      "delimRE.split(lookInHere)"
     ],
     "language": "python",
     "metadata": {},
     "outputs": [
      {
       "metadata": {},
       "output_type": "pyout",
       "prompt_number": 123,
       "text": [
        "['',\n",
        " 'The',\n",
        " 'meaning',\n",
        " 'of',\n",
        " 'the',\n",
        " 'this',\n",
        " 'sentence',\n",
        " 'is',\n",
        " 'what',\n",
        " 'they',\n",
        " 'the',\n",
        " 'told',\n",
        " 'me',\n",
        " 'to',\n",
        " 'say']"
       ]
      }
     ],
     "prompt_number": 123
    },
    {
     "cell_type": "code",
     "collapsed": false,
     "input": [
      "string = \"(()())\"\n",
      "string = \"(()))\""
     ],
     "language": "python",
     "metadata": {},
     "outputs": []
    }
   ],
   "metadata": {}
  }
 ]
}