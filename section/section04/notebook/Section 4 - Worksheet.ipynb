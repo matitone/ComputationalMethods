{
 "metadata": {
  "name": "Section 4 - Worksheet"
 },
 "nbformat": 3,
 "nbformat_minor": 0,
 "worksheets": [
  {
   "cells": [
    {
     "cell_type": "markdown",
     "metadata": {},
     "source": "# Ling x44 Week 4\n\n_You can find this notebook on my GitHub repo: http://github.com/obnorthrup/144coursework _  \n_Don't let me start until you're set up! You'll also need my `data` folder, which is different from the one on the course website._\n\n## Today's project\n\nWe're going to load several text files, get word frequencies, filter common words out, and print some frequency results to a new file."
    },
    {
     "cell_type": "markdown",
     "metadata": {},
     "source": "## Part 1: Loading, tokenizing\n\nLet's load some text files and make a dictionary of word frequencies from them. What are the steps?"
    },
    {
     "cell_type": "markdown",
     "metadata": {},
     "source": " "
    },
    {
     "cell_type": "markdown",
     "metadata": {},
     "source": "### 1.1 tokenizeFile()\n\nLet's start small. Load a file (grimm_snippet) and print it line-by-line."
    },
    {
     "cell_type": "code",
     "collapsed": false,
     "input": "",
     "language": "python",
     "metadata": {},
     "outputs": []
    },
    {
     "cell_type": "markdown",
     "metadata": {},
     "source": "Ok, now let's find all the words in a string, using a regular expression."
    },
    {
     "cell_type": "code",
     "collapsed": false,
     "input": "import re\nsilly = '''\"I should be very silly,\" said he, \"if I went to that shabby\nhouse, and left this charming place;\" so he went into the smart house,\nand ate and drank at his ease, and forgot the bird, and his country too.'''\n\n",
     "language": "python",
     "metadata": {},
     "outputs": [],
     "prompt_number": 1
    },
    {
     "cell_type": "markdown",
     "metadata": {},
     "source": "Putting these together..."
    },
    {
     "cell_type": "code",
     "collapsed": false,
     "input": "import re\n\ndef tokenizeFile(path):\n    \n    # Your code here\n    \n    pass\n\nyourPath = \"\"\nprint tokenizeFile(yourPath)",
     "language": "python",
     "metadata": {},
     "outputs": [
      {
       "output_type": "stream",
       "stream": "stdout",
       "text": "None\n"
      }
     ],
     "prompt_number": 3
    },
    {
     "cell_type": "markdown",
     "metadata": {},
     "source": "### 1.2 tokenizeDir()\n\nOk, now let's call this on multiple files. We'll 1) create a list of paths to text files in a particular directory and 2) loop through that list, running tokenizeFile() as we go.\n\nFirst up: List the text files in a directory"
    },
    {
     "cell_type": "code",
     "collapsed": false,
     "input": "import os\n\n#os.chdir(\"/Users/obn/Dropbox/Linguistics/Comp Methods/x44private/Section prep/\")\n",
     "language": "python",
     "metadata": {},
     "outputs": [],
     "prompt_number": 4
    },
    {
     "cell_type": "markdown",
     "metadata": {},
     "source": "Now, make a function called txtInDir(directory) that takes a path (to the `chronoguide` directory) and returns a list of all the text files in it"
    },
    {
     "cell_type": "code",
     "collapsed": false,
     "input": "def txtInDir(directory):\n    # Your code here\n    pass\n\n#chronoDir = ???\n#chronoFileList = txtinDir(chronoDir)\n#print chronoFileList",
     "language": "python",
     "metadata": {},
     "outputs": [],
     "prompt_number": 5
    },
    {
     "cell_type": "markdown",
     "metadata": {},
     "source": "Almost there. We have a way to list text files and a way to tokenize a single text file. Write tokenizeDir(directory) to put these together."
    },
    {
     "cell_type": "code",
     "collapsed": false,
     "input": "#import re\n\ndef tokenizeDir(directory):\n    \n    # Your code here\n    pass\n\n#chronoWords = tokenizeDir(chronoDir)\n#print words[1895:2050]",
     "language": "python",
     "metadata": {},
     "outputs": [],
     "prompt_number": 6
    },
    {
     "cell_type": "markdown",
     "metadata": {},
     "source": "## Part 2: Frequencies\n\nLet's make a dictionary of word frequencies from chronoWords. Steps:\n\n1. Initialize a dictionary\n2. Loop through chronoWords\n    1. If a word is in the dictionary, increment its value\n    2. If a word isn't in the dictionary, add it with value 1"
    },
    {
     "cell_type": "code",
     "collapsed": false,
     "input": "def words2freq(wordList):\n    frequencies = {}\n    # Your code here. How do we loop through the words in the 'words' list?\n    return frequencies\n\n#chronoFreq = words2freq(chronoWords)\n#print chronoFreq",
     "language": "python",
     "metadata": {},
     "outputs": [],
     "prompt_number": 7
    },
    {
     "cell_type": "markdown",
     "metadata": {},
     "source": "The main characters in this game are **Crono**, **Marle**, **Lucca**, **Frog**, **Robo**, and **Magus**. Let's see how often they're mentioned. Print the results nicely using `.format()`"
    },
    {
     "cell_type": "code",
     "collapsed": false,
     "input": "",
     "language": "python",
     "metadata": {},
     "outputs": [],
     "prompt_number": 7
    },
    {
     "cell_type": "markdown",
     "metadata": {},
     "source": "More generally, let's see what the 30 most frequent words are. What will we have to do?"
    },
    {
     "cell_type": "markdown",
     "metadata": {},
     "source": " "
    },
    {
     "cell_type": "code",
     "collapsed": false,
     "input": "def freq_dict_to_list(frequencies):\n    # Your code here\n    pass\n    \n#print freq_dict_to_list(chronoFreq)[:30]",
     "language": "python",
     "metadata": {},
     "outputs": [
      {
       "output_type": "stream",
       "stream": "stdout",
       "text": "[('the', 3304), ('to', 1544), ('you', 1212), ('and', 1068), ('a', 803), ('will', 657), ('of', 585), (\"you'll\", 509), ('head', 462), ('in', 457), ('it', 360), ('that', 357), ('after', 315), ('is', 312), ('then', 291), ('see', 289), ('on', 273), ('now', 270), ('if', 257), ('go', 256), ('be', 255), ('your', 254), ('right', 242), ('for', 242), ('can', 237), ('get', 233), ('use', 225), ('here', 212), ('have', 187), ('back', 182)]\n"
      }
     ],
     "prompt_number": 133
    },
    {
     "cell_type": "markdown",
     "metadata": {},
     "source": "Let's make this look a little nicer by putting a wrapper on it called top30() that takes a frequency dictionary"
    },
    {
     "cell_type": "code",
     "collapsed": false,
     "input": "def top30(freqDict):\n    # Your cod here\n\n#top30(chronoFreq)",
     "language": "python",
     "metadata": {},
     "outputs": [
      {
       "output_type": "stream",
       "stream": "stdout",
       "text": "1) ll: 610\n2) head: 462\n3) s: 404\n4) is: 312\n5) right: 242\n6) here: 230\n7) left: 179\n8) t: 169\n9) north: 163\n10) ad: 162\n11) room: 156\n12) chest: 153\n13) door: 147\n14) are: 133\n15) beat: 133\n16) crono: 130\n17) fight: 125\n18) talk: 116\n19) enter: 115\n20) hp: 114\n21) item: 112\n22) another: 99\n23) magic: 98\n24) down: 97\n25) save: 95\n26) next: 95\n27) lucca: 94\n28) again: 94\n29) attack: 91\n30) don: 88\n"
      }
     ],
     "prompt_number": 135
    },
    {
     "cell_type": "markdown",
     "metadata": {},
     "source": "Hmm, not super useful, given all the common words mixed in. Let's filter the 100 most common English words. (http://en.wikipedia.org/wiki/Most_common_words_in_English)\n\n1. Load the common words into a list\n2. Create a function that takes a frequency dictionary and a list, and returns a dictionary with the items listed removed\n3. Print top30() on the new dict"
    },
    {
     "cell_type": "code",
     "collapsed": false,
     "input": "# Load the common word list file",
     "language": "python",
     "metadata": {},
     "outputs": [],
     "prompt_number": 8
    },
    {
     "cell_type": "code",
     "collapsed": false,
     "input": "def filterFreq(freqDict, filterList):\n    # Your code here\n    pass\n\n#filteredChronoFreq = filterFreq(chronoFreq, commonList)",
     "language": "python",
     "metadata": {},
     "outputs": [],
     "prompt_number": 148
    },
    {
     "cell_type": "code",
     "collapsed": false,
     "input": "#top30(filteredChronoFreq)",
     "language": "python",
     "metadata": {},
     "outputs": [],
     "prompt_number": 9
    },
    {
     "cell_type": "markdown",
     "metadata": {},
     "source": "## Writing to files\n\nLet's quickly save the results of `top30()` to a new file in the working directory."
    },
    {
     "cell_type": "code",
     "collapsed": false,
     "input": "f = open(\"top30.txt\",\"w\")\n#f.write(top30(filteredChronoFreq)) #Fails! Can only write a string.\nf.close()",
     "language": "python",
     "metadata": {},
     "outputs": [],
     "prompt_number": 153
    },
    {
     "cell_type": "code",
     "collapsed": false,
     "input": "# We need a new version of top30()\ndef top30string(freqDict):\n    # Your code here\n    pass",
     "language": "python",
     "metadata": {},
     "outputs": [],
     "prompt_number": 156
    },
    {
     "cell_type": "code",
     "collapsed": false,
     "input": "f = open(\"top30.txt\",\"w\")\n#f.write(top30string(filteredChronoFreq))\nf.close()",
     "language": "python",
     "metadata": {},
     "outputs": [],
     "prompt_number": 158
    },
    {
     "cell_type": "code",
     "collapsed": false,
     "input": "",
     "language": "python",
     "metadata": {},
     "outputs": []
    }
   ],
   "metadata": {}
  }
 ]
}