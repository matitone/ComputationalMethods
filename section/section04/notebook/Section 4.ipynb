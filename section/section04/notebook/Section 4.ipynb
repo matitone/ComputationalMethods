{
 "metadata": {
  "name": "Section 4"
 },
 "nbformat": 3,
 "nbformat_minor": 0,
 "worksheets": [
  {
   "cells": [
    {
     "cell_type": "markdown",
     "metadata": {},
     "source": "# Ling x44 Week 4\n\n_You can find this notebook on my GitHub repo: http://github.com/obnorthrup/144coursework _  \n_Don't let me start until you're set up!_\n\n## Today's project\n\nWe're going to load several text files, get word frequencies, filter common words out, and print some frequency results to a new file."
    },
    {
     "cell_type": "markdown",
     "metadata": {},
     "source": "## Part 1: Loading, tokenizing\n\nLet's load some text files and make a dictionary of word frequencies from them. What are the steps?"
    },
    {
     "cell_type": "markdown",
     "metadata": {},
     "source": "We'll need to:\n\n1. Write a function that breaks a text file into a list of words - tokenizeFile()\n    1. Load the file\n    2. Go through line by line and find the words\n    3. Append those words to a list\n    4. Return the list\n2. Write a function that runs tokenizeFile() on every text file in it - tokenizeDir()\n    1. Find out what's in the directory\n    2. Limit ourselves to just text files (.txt)\n    3. Call tokenizeFiles on each text file and glom all the results together"
    },
    {
     "cell_type": "markdown",
     "metadata": {},
     "source": "### 1.1 tokenizeFile()\n\nLet's start small. Load a file into f and print it line-by-line."
    },
    {
     "cell_type": "code",
     "collapsed": false,
     "input": "path = \"../data/grimm_snippet.txt\"\nf = open(path, \"r\")\n\n# One solution:\n#curLi = f.readline()\n#while curLi != '':\n#    print curLi\n#    curLi = f.readline()\n\n# Easier for our purposes:\n#for line in f:\n#    print line\n\ndef tokenizer(path): #This function is responsible for tokenizing the text in the provided file.\n    f = open(path, \"r\")\n    words = []\n    for line in f: #For each line in the loaded file:\n        words_only = re.findall(r\"[A-Za-z']+\", line.lower()) #Strip the punctuation with regular expressions from the text.\n        words.extend(words_only)\n    return words    \n    \nprint tokenizer(path)",
     "language": "python",
     "metadata": {},
     "outputs": [
      {
       "output_type": "stream",
       "stream": "stdout",
       "text": "['then', 'the', \"gardener's\", 'eldest', 'son', 'set', 'out', 'and', 'thought', 'to', 'find', 'the', 'golden', 'bird', 'very', 'easily', 'and', 'when', 'he', 'had', 'gone', 'but', 'a', 'little', 'way', 'he', 'came', 'to', 'a', 'wood', 'and', 'by', 'the', 'side', 'of', 'the', 'wood', 'he', 'saw', 'a', 'fox', 'sitting', 'so', 'he', 'took', 'his', 'bow', 'and', 'made', 'ready', 'to', 'shoot', 'at', 'it', 'then', 'the', 'fox', 'said', \"'do\", 'not', 'shoot', 'me', 'for', 'i', 'will', 'give', 'you', 'good', 'counsel', 'i', 'know', 'what', 'your', 'business', 'is', 'and', 'that', 'you', 'want', 'to', 'find', 'the', 'golden', 'bird', 'you', 'will', 'reach', 'a', 'village', 'in', 'the', 'evening', 'and', 'when', 'you', 'get', 'there', 'you', 'will', 'see', 'two', 'inns', 'opposite', 'to', 'each', 'other', 'one', 'of', 'which', 'is', 'very', 'pleasant', 'and', 'beautiful', 'to', 'look', 'at', 'go', 'not', 'in', 'there', 'but', 'rest', 'for', 'the', 'night', 'in', 'the', 'other', 'though', 'it', 'may', 'appear', 'to', 'you', 'to', 'be', 'very', 'poor', 'and', 'mean', \"'\", 'but', 'the', 'son', 'thought', 'to', 'himself', \"'what\", 'can', 'such', 'a', 'beast', 'as', 'this', 'know', 'about', 'the', 'matter', \"'\", 'so', 'he', 'shot', 'his', 'arrow', 'at', 'the', 'fox', 'but', 'he', 'missed', 'it', 'and', 'it', 'set', 'up', 'its', 'tail', 'above', 'its', 'back', 'and', 'ran', 'into', 'the', 'wood', 'then', 'he', 'went', 'his', 'way', 'and', 'in', 'the', 'evening', 'came', 'to', 'the', 'village', 'where', 'the', 'two', 'inns', 'were', 'and', 'in', 'one', 'of', 'these', 'were', 'people', 'singing', 'and', 'dancing', 'and', 'feasting', 'but', 'the', 'other', 'looked', 'very', 'dirty', 'and', 'poor', \"'i\", 'should', 'be', 'very', 'silly', \"'\", 'said', 'he', \"'if\", 'i', 'went', 'to', 'that', 'shabby', 'house', 'and', 'left', 'this', 'charming', \"place'\", 'so', 'he', 'went', 'into', 'the', 'smart', 'house', 'and', 'ate', 'and', 'drank', 'at', 'his', 'ease', 'and', 'forgot', 'the', 'bird', 'and', 'his', 'country', 'too']\n"
      }
     ],
     "prompt_number": 166
    },
    {
     "cell_type": "markdown",
     "metadata": {},
     "source": "Ok, now let's find all the words in a string, using a regular expression."
    },
    {
     "cell_type": "code",
     "collapsed": false,
     "input": "import re\nsilly = '''\"I should be very silly,\" said he, \"if I went to that shabby\nhouse, and left this charming place;\" so he went into the smart house,\nand ate and drank at his ease, and forgot the bird, and his country too.'''\n\nsilly_list = re.findall(r\"[A-z']+\", silly.lower())\nprint silly_list",
     "language": "python",
     "metadata": {},
     "outputs": [
      {
       "output_type": "stream",
       "stream": "stdout",
       "text": "['i', 'should', 'be', 'very', 'silly', 'said', 'he', 'if', 'i', 'went', 'to', 'that', 'shabby', 'house', 'and', 'left', 'this', 'charming', 'place', 'so', 'he', 'went', 'into', 'the', 'smart', 'house', 'and', 'ate', 'and', 'drank', 'at', 'his', 'ease', 'and', 'forgot', 'the', 'bird', 'and', 'his', 'country', 'too']\n"
      }
     ],
     "prompt_number": 167
    },
    {
     "cell_type": "markdown",
     "metadata": {},
     "source": "Putting these together..."
    },
    {
     "cell_type": "code",
     "collapsed": false,
     "input": "import re\n\ndef tokenizeFile(path):\n    f = open(path, \"r\")\n\n    words = []\n\n    for line in f:\n        line_words = re.findall(r\"[A-z']+\", line.lower())\n        words.extend(line_words)\n    return words\n\nprint tokenizeFile(path)",
     "language": "python",
     "metadata": {},
     "outputs": [
      {
       "output_type": "stream",
       "stream": "stdout",
       "text": "['then', 'the', \"gardener's\", 'eldest', 'son', 'set', 'out', 'and', 'thought', 'to', 'find', 'the', 'golden', 'bird', 'very', 'easily', 'and', 'when', 'he', 'had', 'gone', 'but', 'a', 'little', 'way', 'he', 'came', 'to', 'a', 'wood', 'and', 'by', 'the', 'side', 'of', 'the', 'wood', 'he', 'saw', 'a', 'fox', 'sitting', 'so', 'he', 'took', 'his', 'bow', 'and', 'made', 'ready', 'to', 'shoot', 'at', 'it', 'then', 'the', 'fox', 'said', \"'do\", 'not', 'shoot', 'me', 'for', 'i', 'will', 'give', 'you', 'good', 'counsel', 'i', 'know', 'what', 'your', 'business', 'is', 'and', 'that', 'you', 'want', 'to', 'find', 'the', 'golden', 'bird', 'you', 'will', 'reach', 'a', 'village', 'in', 'the', 'evening', 'and', 'when', 'you', 'get', 'there', 'you', 'will', 'see', 'two', 'inns', 'opposite', 'to', 'each', 'other', 'one', 'of', 'which', 'is', 'very', 'pleasant', 'and', 'beautiful', 'to', 'look', 'at', 'go', 'not', 'in', 'there', 'but', 'rest', 'for', 'the', 'night', 'in', 'the', 'other', 'though', 'it', 'may', 'appear', 'to', 'you', 'to', 'be', 'very', 'poor', 'and', 'mean', \"'\", 'but', 'the', 'son', 'thought', 'to', 'himself', \"'what\", 'can', 'such', 'a', 'beast', 'as', 'this', 'know', 'about', 'the', 'matter', \"'\", 'so', 'he', 'shot', 'his', 'arrow', 'at', 'the', 'fox', 'but', 'he', 'missed', 'it', 'and', 'it', 'set', 'up', 'its', 'tail', 'above', 'its', 'back', 'and', 'ran', 'into', 'the', 'wood', 'then', 'he', 'went', 'his', 'way', 'and', 'in', 'the', 'evening', 'came', 'to', 'the', 'village', 'where', 'the', 'two', 'inns', 'were', 'and', 'in', 'one', 'of', 'these', 'were', 'people', 'singing', 'and', 'dancing', 'and', 'feasting', 'but', 'the', 'other', 'looked', 'very', 'dirty', 'and', 'poor', \"'i\", 'should', 'be', 'very', 'silly', \"'\", 'said', 'he', \"'if\", 'i', 'went', 'to', 'that', 'shabby', 'house', 'and', 'left', 'this', 'charming', \"place'\", 'so', 'he', 'went', 'into', 'the', 'smart', 'house', 'and', 'ate', 'and', 'drank', 'at', 'his', 'ease', 'and', 'forgot', 'the', 'bird', 'and', 'his', 'country', 'too']\n"
      }
     ],
     "prompt_number": 168
    },
    {
     "cell_type": "markdown",
     "metadata": {},
     "source": "### 1.2 tokenizeDir()\n\nOk, now let's call this on multiple files. We'll 1) create a list of paths to text files in a particular directory and 2) loop through that list, running tokenizeFile() as we go.\n\nFirst up: List the text files in a directory"
    },
    {
     "cell_type": "code",
     "collapsed": false,
     "input": "import os\n\n#os.chdir(\"/Users/obn/Dropbox/Linguistics/Comp Methods/144coursework/Section prep/Section 4/notebook\")\n\nprint os.getcwd()\nos.chdir(\"..\")\nprint os.getcwd()\nprint os.listdir(os.getcwd())\nprint type(os.listdir(os.getcwd()))\n\ntheDir = os.listdir(os.getcwd())\nfor theFile in theDir:\n    if theFile.endswith(\".md\"):\n        print \"Found one! It's \" + theFile\n",
     "language": "python",
     "metadata": {},
     "outputs": [
      {
       "output_type": "stream",
       "stream": "stdout",
       "text": "/Users/obn/Dropbox/Linguistics/Comp Methods/x44private/Section prep\n/Users/obn/Dropbox/Linguistics/Comp Methods/x44private\n['.DS_Store', '.git', 'data', 'homework', 'pranavsTest.md', 'README.md', 'Section prep']\n<type 'list'>\nFound one! It's pranavsTest.md\nFound one! It's README.md\n"
      }
     ],
     "prompt_number": 170
    },
    {
     "cell_type": "markdown",
     "metadata": {},
     "source": "Now, make a function called txtInDir(directory) that takes a path and returns a list of all the text files in it"
    },
    {
     "cell_type": "code",
     "collapsed": false,
     "input": "import os\n\n# Your directory will be different\nos.chdir(\"/Users/obn/Dropbox/Linguistics/Comp Methods/144coursework/section/Section 4/notebook\")\n\n\ndef txtInDir(directory):\n    paths = []\n    for theFile in os.listdir(directory):\n        if theFile.endswith(\".txt\"):\n            filePath = directory + theFile\n            paths.append(filePath)\n    return paths\n\nchronoDir = \"../data/chronoguide/\"\nchronoPaths = txtInDir(chronoDir)\nprint chronoPaths",
     "language": "python",
     "metadata": {},
     "outputs": [
      {
       "output_type": "stream",
       "stream": "stdout",
       "text": "['../data/chronoguide/chrono_trigger_1.txt', '../data/chronoguide/chrono_trigger_2.txt', '../data/chronoguide/chrono_trigger_3.txt']\n"
      }
     ],
     "prompt_number": 172
    },
    {
     "cell_type": "markdown",
     "metadata": {},
     "source": "Almost there. We have a way to list text files and a way to tokenize a single text file. Write tokenizeDir(directory) to put these together."
    },
    {
     "cell_type": "code",
     "collapsed": false,
     "input": "#import re\n\ndef tokenizeDir(directory):\n    totalWords = []\n    pathList = txtInDir(directory)\n    #print pathList\n    for path in pathList:\n        fileWords = tokenizeFile(path)\n        totalWords.extend(fileWords)\n    return totalWords\n\nchronoWords = tokenizeDir(chronoDir)\nprint chronoWords[1895:2050]\n#print tokenizeFile(\"../data/chronoguide/chrono_trigger_1.txt\")",
     "language": "python",
     "metadata": {},
     "outputs": [
      {
       "output_type": "stream",
       "stream": "stdout",
       "text": "['after', 'she', 'discovers', 'what', 'caused', 'this', 'event', 'crono', 'will', 'be', 'sucked', 'into', 'the', 'gate', 'and', 'will', 'travel', 'through', 'time', 'now', 'the', 'real', 'adventure', 'of', 'crono', 'will', 'begin', 'truce', 'canyon', 'ad', 'item', 's', 'tonic', 'power', 'glove', 'upon', 'exiting', 'the', 'gate', 'you', 'will', 'be', 'greeted', 'by', 'imps', 'you', 'can', 'easily', 'beat', 'them', 'w', 'normal', 'attacks', 'no', 'problem', 'at', 'all', 'head', 'northwest', 'to', 'the', 'next', 'section', 'you', 'will', 'meet', 'a', 'batch', 'of', 'imps', \"it's\", 'easy', 'there', 'are', 'also', 'items', 'that', 'can', 'be', 'found', 'in', 'this', 'area', 'a', 'tonic', 'and', 'a', 'power', 'glove', 'when', 'you', 'see', 'imps', 'playing', 'just', 'pass', 'through', 'them', 'quietly', \"don't\", 'go', 'near', 'them', 'and', \"they'll\", 'not', 'attack', 'you', 'just', 'head', 'south', 'to', 'exit', 'to', 'the', 'world', 'map', \"you'll\", 'see', 'that', 'the', 'place', 'is', 'different', 'from', 'your', 'time', 'ad', 'because', \"you're\", 'in', 'ad', 'guardia', 'kingdom', 'ad', 'you', 'can', 'visit', 'the', 'residents', 'of', 'truce', 'village', 'you', 'can', 'buy', 'equipments', 'item', 'from', 'the', 'market', 'you', 'can', 'also', 'see']\n"
      }
     ],
     "prompt_number": 164
    },
    {
     "cell_type": "markdown",
     "metadata": {},
     "source": "## Part 2: Frequencies\n\nLet's make a dictionary of word frequencies from chronoWords. Steps:\n\n1. Initialize a dictionary\n2. Loop through chronoWords\n    1. If a word is in the dictionary, increment its value\n    2. If a word isn't in the dictionary, add it with value 1"
    },
    {
     "cell_type": "code",
     "collapsed": false,
     "input": "def words2freq(wordList):\n    frequencies = {}\n    # Your code here. How do we loop through the words in the 'words' list?\n    for word in wordList:\n        if word in frequencies:\n            frequencies[word] += 1\n        else:\n            frequencies[word] = 1\n    return frequencies\n\nchronoFreq = words2freq(chronoWords)\nprint chronoFreq",
     "language": "python",
     "metadata": {},
     "outputs": [
      {
       "output_type": "stream",
       "stream": "stdout",
       "text": "{'scouter': 2, 'saves': 2, 'woods': 10, 'sleep': 8, 'consists': 10, 'captain': 6, 'saved': 3, 'skeleton': 2, 'increase': 5, 'pointing': 1, 'rpg': 1, 'endings': 6, 'bike': 4, 'under': 2, 'sorry': 1, 'worth': 1, 'merchant': 2, 'rescue': 3, \"leene's\": 41, 'rise': 7, 'terminal': 24, 'connects': 1, 'lumin': 2, 'every': 12, \"'all\": 1, 'affect': 5, 'dorino': 3, 'kemege': 1, \"item's\": 1, 'encounter': 5, 'caf': 3, \"we'll\": 5, 'squares': 3, 'prize': 1, 'wooden': 5, 'commons': 4, 'convenience': 1, 'joke': 1, 'red': 17, 'guiding': 1, 'heading': 15, 'force': 2, 'tired': 1, 'gaspar': 10, 'estimates': 1, 'bashers': 2, 'chef': 3, 'surrounding': 1, 'second': 35, 'persuade': 2, 'guillotine': 3, 'air': 3, 'specs': 2, 'shining': 50, 'blue': 19, 'lesser': 1, 'evermore': 1, 'beaten': 6, 'contributed': 2, \"crono's\": 47, 'above': 13, \"characters'\": 8, 'new': 31, 'tips': 2, 'ever': 6, 'consisting': 1, 'told': 2, 'helmets': 1, 'hero': 8, 'never': 5, 'here': 212, 'met': 2, 'mew': 1, 'protection': 6, 'active': 2, 'path': 32, \"aren't\": 1, 'obtained': 1, 'kids': 2, \"fiona's\": 9, 'items': 48, 'leaves': 7, 'climbed': 2, 'ignoring': 1, 'credit': 2, \"i'm\": 6, 'hundley': 1, 'glittering': 1, 'magically': 1, 'summons': 2, 'brought': 14, 'total': 2, 'calms': 2, 'plot': 1, 'cheating': 1, 'would': 8, 'army': 1, 'coins': 4, 'arms': 5, 'music': 5, 'therefore': 10, 'recommend': 2, 'strike': 2, 'survive': 1, 'type': 1, 'until': 77, 'saber': 2, 'brings': 4, 'yahoo': 1, 'it': 360, 'examples': 1, 'equipments': 18, 'frenzy': 2, 'shelters': 6, 'hole': 20, 'hold': 5, 'blocking': 2, 'must': 16, 'me': 5, 'hideout': 2, 'join': 10, 'room': 156, 'err': 2, 'blade': 12, 'roof': 1, 'whack': 1, 'mt': 2, 'mp': 37, 'mr': 1, 'mages': 1, 'my': 8, 'example': 6, 'fortress': 1, 'alternating': 1, 'give': 45, 'floor': 12, \"keeper's\": 7, 'husband': 2, \"nadia's\": 2, 'respective': 3, 'currency': 1, 'want': 45, 'keep': 15, 'vanish': 1, 'end': 84, 'recovery': 2, 'thing': 7, 'gremlins': 2, 'travel': 3, 'returning': 1, 'damage': 39, 'machine': 17, 'how': 19, 'stupidity': 1, 'gato': 5, \"wedge's\": 2, 'hop': 1, 'answer': 3, 'gate': 49, 'ordinary': 1, 'preferable': 1, 'charging': 2, 'aboard': 2, 'badly': 2, 'description': 2, 'ladder': 80, 'after': 315, 'damaged': 1, 'lab': 19, 'diagram': 3, 'dinosaurs': 1, 'wrong': 2, 'jumping': 1, 'meso': 4, 'passageway': 3, 'sparkles': 2, 'meaningful': 1, 'types': 1, 'third': 13, 'greet': 1, 'green': 10, 'south': 63, 'goodbye': 1, 'enter': 113, 'operate': 1, 'order': 10, 'wind': 10, 'executed': 3, 'over': 4, 'fall': 18, 'sickle': 2, 'sidekicks': 3, 'mystics': 5, 'sentry': 1, 'mayor': 7, 'before': 42, 'directional': 1, 'somewhere': 2, 'fix': 2, 'better': 2, 'imp': 8, 'conner': 1, 'fade': 5, 'hidden': 2, 'easier': 11, 'split': 1, 'repairmen': 1, 'then': 291, 'them': 104, 'combination': 1, 'confuse': 2, 'peoples': 1, 'break': 5, 'band': 6, 'they': 72, 'yourself': 3, 'silver': 21, 'shadows': 3, 'gloom': 4, 'anion': 1, 'meat': 1, 'l': 7, 'rocks': 2, 'bellbird': 1, 'reasonable': 1, 'each': 19, 'went': 3, 'meal': 3, 'bone': 1, 'mean': 5, 'lifted': 2, 'series': 2, 'initiate': 1, 'spider': 1, 'trading': 6, 'hanged': 2, 'cathedral': 5, 'message': 1, 'sorcerers': 2, 'golem': 14, 'lair': 19, 'content': 1, 're': 3, 'bypassed': 1, \"member's\": 1, 'got': 13, 'newly': 2, 'washes': 1, 'turning': 2, 'barrier': 12, \"doesn't\": 3, 'cybots': 2, 'leftovers': 1, 'little': 8, 'free': 14, 'evil': 2, 'estimate': 1, 'greeted': 2, 'ambler': 3, \"character's\": 5, 'created': 5, 'starts': 2, 'days': 7, 'creates': 1, 'att': 1, \"r'\": 1, 'soda': 2, 'uses': 3, 'onto': 3, 'already': 13, 'rolypolys': 2, 'hydra': 1, 'fantasy': 2, \"azala's\": 1, 'floors': 1, 'another': 99, 'disembark': 3, 'goblins': 1, 'likely': 1, 'top': 22, 'girls': 1, 'swordsmith': 2, 'heights': 1, 'needed': 1, 'master': 2, 'too': 10, 'legs': 2, 'edsamail': 1, 'collapse': 2, 'feathers': 9, 'serve': 1, 'took': 3, 'digs': 1, 'western': 1, 'somewhat': 2, 'begins': 3, 'spoiler': 1, 'ettes': 1, 'xmission': 1, 'enabled': 1, 'scenes': 6, 'matter': 1, 'titles': 2, 'flame': 4, 'mermaid': 1, 'iron': 4, \"'death\": 1, 'feeling': 2, 'mini': 8, 'palace': 14, 'runner': 3, 'mind': 3, 'talking': 22, 'rat': 10, 'seed': 1, 'manner': 1, 'stalls': 1, 'seen': 10, 'squaresoft': 2, 'seek': 1, 'tells': 7, 'contents': 4, 'mostly': 1, 'reminding': 1, 'snow': 1, 'brandon': 5, 'racers': 1, 'chest': 153, 'causing': 1, 'amusing': 1, 'doors': 10, 'hatch': 1, 'circles': 1, 'even': 9, 'continuous': 1, 'disembarking': 1, 'maiden': 2, 'though': 4, 'object': 2, 'dial': 2, 'effective': 2, 'aeons': 1, 'mouth': 3, 'letter': 1, 'grave': 10, 'glow': 3, 'alarm': 1, 'camp': 2, 'points': 25, 'tech': 12, 'dot': 30, 'saying': 1, 'boogie': 2, 'queen': 24, 'sage': 1, 'ending': 55, 'gauge': 1, 'moncourrier': 1, 'earth': 2, 'tempted': 2, 'touches': 1, 'busy': 2, 'piette': 4, 'explain': 2, 'zombor': 3, 'bush': 2, \"'no\": 1, 'tadeo': 2, 'do': 74, 'fossil': 2, \"'i\": 1, 'watch': 4, 'goons': 1, 'ozziepants': 2, 'report': 1, 'net': 1, 'runs': 3, 'bar': 2, 'officially': 1, 'twice': 1, 'bad': 1, 'rune': 2, 'release': 2, 'c_trigger': 1, 'steal': 4, 'ailments': 3, \"racers'\": 1, 'decides': 1, 'pummel': 1, 'nus': 4, 'nun': 1, 'depends': 2, 'decided': 1, 'imho': 1, 'fail': 1, 'atropos': 8, 'hammer': 4, 'best': 6, 'techniques': 1, 'said': 3, 'westernmost': 2, 'lots': 2, 'away': 23, 'arrived': 1, 'artificial': 1, 'mud': 6, 'score': 2, 'discovers': 1, 'shaver': 2, 'shields': 5, 'gravestone': 1, 'claws': 1, 'we': 2, 'interrupting': 1, 'rolled': 1, 'weak': 4, 'boss': 72, 'southeast': 1, 'cut': 2, 'lode': 10, \"'and\": 1, 'clues': 1, 'flytrap': 2, 'blasted': 1, 'kitchen': 3, 'suggested': 1, 'against': 17, 'games': 4, 'quests': 8, 'synchrites': 1, 'com': 13, 'asked': 4, 'pre': 2, 'tough': 6, 'cadieux_philippe': 1, 'appeared': 3, 'had': 1, 'canyon': 11, 'heals': 1, 'ether': 74, 'armored': 1, 'asks': 10, 'three': 6, 'been': 6, 'quickly': 10, 'much': 11, 'interest': 1, 'expected': 1, 'ethers': 21, 'location': 2, 'dots': 3, 'dry': 1, 'life': 9, 'electrocution': 2, 'easy': 13, 'eastern': 4, 'attacker': 1, 'confinement': 1, 'tapping': 1, 'catch': 4, 'xxi': 3, 'exception': 1, 'save': 95, 'tank': 6, 'ahead': 2, 'hat': 7, 'act': 1, 'aim': 1, 'near': 21, 'k': 1, 'spawn': 11, 'amphibite': 2, 'pyramid': 1, 'played': 4, 'is': 312, 'dumped': 1, 'accessories': 4, 'defeated': 4, 'ii': 1, 'cans': 3, 'in': 457, 'disappear': 5, 'if': 257, 'containing': 11, 'shimmering': 1, 'drawers': 1, 'perform': 1, 'suggest': 10, 'make': 26, 'beside': 11, 'complex': 1, 'damages': 1, 'mailandnews': 1, 'several': 1, \"frog's\": 5, 'rain': 1, 'hand': 8, 'waterfall': 9, 'portal': 2, 'characters': 69, 'jealous': 1, \"he'll\": 66, 'kid': 7, 'kept': 6, 'ocean': 5, 'detained': 2, 'mother': 22, \"taban's\": 1, 'the': 3304, 'left': 179, \"she'll\": 10, 'departed': 1, 'just': 94, 'sentence': 2, 'kali': 2, 'disguise': 2, 'identify': 2, 'thanks': 9, 'human': 2, 'dactyl': 1, 'shuffle': 1, 'yes': 1, 'yet': 30, 'previous': 5, 'adding': 1, 'unable': 1, 'ease': 1, 'character': 19, 'greatly': 3, 'board': 8, 'innocent': 4, 'has': 43, 'plasma': 2, 'gave': 2, 'threatens': 1, 'casting': 2, \"toma's\": 4, 'possible': 14, 'ducts': 4, 'background': 2, 'bekkler': 1, 'cape': 9, 'shadow': 3, 'unique': 1, 'advanced': 1, 'zeal': 16, 'manual': 2, 'remind': 1, 'festivities': 1, 'steps': 6, 'night': 3, 'right': 242, 'old': 17, 'deal': 14, 'people': 17, 'groupies': 1, 'successfully': 2, 'somehow': 1, 'dead': 5, 'chests': 38, 'captive': 1, 'azala': 18, 'escape': 8, 'atadeo': 1, 'enemies': 38, 'congratulate': 1, 'friend': 2, 'for': 242, 'fourth': 3, 'purple': 6, 'opposite': 5, 'ice': 6, 'everything': 10, 'cerra': 3, 'icq': 1, 'beating': 69, 'peek': 1, 'shakes': 1, 'pose': 2, 'disappeared': 2, 'discount': 1, 'bolt': 5, 'super': 5, 'attacks': 51, 'coral': 1, 'o': 1, 'plus': 5, 'guilty': 3, \"'in\": 1, 'slightly': 2, 'book': 9, 'automatically': 13, 'raised': 1, 'destination': 1, 'statements': 2, 'variations': 2, 'formerly': 1, 'bound': 1, 'hurray': 2, 'down': 97, 'bats': 3, 'reducing': 1, 'parade': 1, 'east': 16, 'guardia': 37, \"retinite's\": 1, 'flying': 3, 'available': 2, 'transform': 1, 'nova': 4, 'fight': 125, 'humorous': 2, 'fought': 9, 'way': 116, 'call': 12, 'was': 25, 'war': 2, 'happy': 1, 'lowest': 1, 'head': 462, 'form': 9, 'offer': 2, 'heal': 20, 'fireworks': 1, 'pierre': 2, 'hear': 5, \"hands'\": 1, 'removed': 1, 'true': 3, 'outsmart': 1, 'fort': 4, 'upgrades': 1, 'mts': 2, 'inside': 50, 'chocobo': 1, 'maximum': 8, 'tell': 66, 'crystal': 1, 'decorate': 2, 'zodiac': 3, 'panels': 5, 'generals': 1, \"kino's\": 1, 'mails': 2, 'trio': 2, 'ayla': 30, 'proved': 1, \"knight's\": 3, 'toss': 1, 'proven': 2, 'crumble': 1, 'xiii': 2, 'exist': 1, 'barghest': 5, \"'wrong\": 1, 'floating': 3, 'check': 8, 'physical': 26, 'techs': 29, 'eerie': 1, 'agreeing': 1, 'nd': 4, 'shrine': 2, 'role': 4, 'whew': 1, 'holding': 1, 'ogan': 6, 'test': 1, 'smell': 1, 'nu': 29, 'picture': 1, 'dies': 6, 'geezer': 1, 'welcome': 1, 'asterisk': 1, 'update': 1, 'transported': 7, \"let's\": 13, 'fell': 5, \"'a\": 4, 'scores': 1, 'waaaaaahh': 1, 'pierced': 1, 'died': 1, 'teleporter': 4, 'longer': 3, 'chrono': 20, 'moved': 1, 'bottom': 3, 'together': 4, 'beds': 1, 'safe': 5, 'teleported': 5, 'time': 123, 'push': 34, 'serious': 1, 'restored': 1, 'managed': 7, 'chain': 15, 'whoever': 1, 'dance': 6, 'skip': 5, 'activated': 4, 'leads': 7, 'battle': 23, 'row': 2, 'depend': 1, 'zone': 1, 'jogger': 2, 'graph': 2, 'technique': 2, 'father': 5, 'countdown': 2, 'finally': 24, \"'yes\": 1, 'giga': 14, 'southwest': 2, 'protective': 2, 'advantage': 3, 'keeping': 1, 'unfamiliar': 1, 'choice': 4, 'locked': 4, 'trouble': 1, 'blast': 1, 'exact': 2, 'cool': 1, 'rightmost': 2, 'banished': 1, 'level': 16, 'did': 10, 'die': 5, 'dig': 2, 'gun': 4, 'leave': 38, 'item': 111, 'team': 3, 'spiral': 1, \"it'll\": 4, 'guzzling': 1, 'prevent': 4, 'talked': 4, 'says': 2, 'villa': 6, 'dealing': 2, 'resisting': 1, 'discover': 2, 'captures': 1, 'colin': 1, 'forging': 1, 'patient': 2, 'helpless': 1, 'curse': 1, 'appear': 19, 'remain': 1, \"'he\": 1, 'goes': 8, 'crooks': 1, 'falling': 2, 'staff': 2, 'boost': 1, 'filled': 3, 'era': 2, 'omnicrone': 3, 'burn': 1, 'guardian': 7, 'water': 13, 'entertain': 1, 'baseball': 1, \"hero's\": 3, 'alone': 3, 'along': 5, 'appears': 5, 'change': 12, 'wait': 16, 'nereids': 8, 'flames': 7, 'healthy': 1, 'wherever': 1, 'exiting': 1, 'trial': 5, 'octoblushes': 1, 'usually': 1, 'weird': 4, 'massage': 1, 'emerge': 2, 'algetty': 2, 'love': 1, 'extra': 4, 'merely': 1, 'rubbles': 1, 'market': 10, 'everybody': 2, 'gulp': 1, 'vamps': 4, 'troops': 1, 'working': 3, 'sake': 4, 'visit': 17, 'live': 3, 'wood': 1, 'wondering': 4, 'memory': 5, \"marle's\": 3, 'megaelixir': 14, 'dismay': 1, 'entrance': 13, 'sharing': 1, 'afford': 1, 'altar': 1, 'clue': 4, 'consoles': 3, 'riding': 1, 'riders': 1, 'fly': 11, 'boucher': 5, 'trann': 3, 'cap': 9, 'cat': 14, 'soup': 4, 'hardest': 5, 'can': 237, 'following': 19, 'making': 5, 'arrive': 37, 'lapis': 15, 'deceased': 5, 'portals': 2, 'stream': 1, 'frogs': 5, 'awesome': 1, \"didn't\": 11, 'tisu': 2, 'topic': 1, 'drawer': 2, 'fortunes': 1, 'dropped': 1, 'allowed': 2, 'counting': 1, 'stole': 1, 'pink': 2, 'requirements': 5, 'fortunately': 4, 'switches': 8, 'sudden': 1, 'write': 1, 'till': 1, 'pure': 2, 'deteriorate': 2, 'map': 82, 'unbelievable': 1, 'teleport': 2, 'may': 17, 'max': 2, 'clone': 11, 'aol': 4, 'southern': 2, 'siren': 2, 'accessory': 2, 'informs': 1, 'suck': 1, 'guys': 1, 'eighth': 1, 'man': 35, 'stress': 1, 'remember': 17, 'tubster': 4, 'whenever': 1, 'maybe': 3, 'ltd': 1, 'st': 1, 'inform': 1, 'switch': 41, 'so': 146, 'eavesdropped': 2, 'unleash': 1, 'truce': 18, 'talk': 116, 'words': 9, 'seeing': 1, 'indeed': 1, 'mainly': 1, 'years': 3, \"bats'll\": 1, 'brain': 17, 'uzzi': 1, 'shake': 2, 'equip': 3, 'cold': 1, 'still': 11, 'starscythe': 1, 'blocked': 3, 'solitary': 1, 'apes': 2, 'group': 6, 'monitor': 3, \"he's\": 11, 'interesting': 2, 'inferior': 1, 'hot': 1, 'window': 1, 'offers': 1, 'mail': 21, 'laughed': 2, 'main': 12, 'whirlpool': 1, 'tonic': 37, 'lancers': 2, 'halt': 1, 'shatter': 1, 'diablos': 2, 'introduce': 2, 'amulet': 2, 'lunch': 1, 'touching': 2, 'miragehand': 2, 'half': 3, 'not': 72, 'unsusceptible': 1, 'now': 270, 'hall': 2, 'shouted': 1, 'name': 15, 'stir': 1, 'drop': 3, 'bursts': 1, 'nizbel': 8, 'rock': 12, 'entirely': 1, 'repaired': 1, 'lucca': 58, 'em': 1, 'silvererng': 2, 'square': 51, 'retrieve': 1, \"chocobo's\": 1, \"party's\": 3, 'entering': 20, 'year': 3, 'girl': 7, 'teams': 2, 'easternmost': 1, 'living': 1, 'shown': 15, 'opened': 4, 'haste': 6, 'prophesized': 1, 'factory': 6, 'swordsman': 1, 'looking': 1, 'receiving': 1, 'correct': 2, 'shows': 3, 'earlier': 4, 'monster': 27, 'disintegrated': 2, 'defenses': 5, 'seventh': 1, 'quite': 7, 'bumps': 1, 'orb': 7, 'care': 1, 'marle': 83, 'yup': 1, 'domes': 1, 'honest': 1, 'turn': 13, 'place': 39, 'massive': 1, 'routes': 7, 'think': 17, 'waited': 2, 'first': 157, 'cheese': 2, 'saving': 3, 'one': 137, 'walkthrough': 15, 'fast': 13, 'directly': 9, 'carry': 3, 'ring': 15, 'open': 40, 'farthest': 1, 'given': 4, 'necessarily': 1, 'silent': 2, 'stuck': 1, 'bite': 2, 'slept': 1, 'anyone': 3, 'dissipate': 1, 'escort': 1, 'white': 15, 'circa': 1, 'bits': 7, 'speaking': 2, 'gives': 3, 'slashes': 1, 'slasher': 4, 'eyes': 2, 'inefficient': 1, 'releases': 1, 'that': 357, \"'rainbow\": 1, 'refuse': 1, 'hut': 19, 'hurt': 1, 'naught': 1, 'berserker': 4, 'copy': 5, 'undoubtedly': 1, 'than': 4, \"here's\": 18, 'unfortunately': 1, 'sailing': 1, 'r': 9, 'opens': 3, 'were': 8, 'and': 1068, 'leapers': 2, 'camouflaged': 1, 'san': 3, 'slay': 1, 'ergheiz': 1, 'turned': 1, 'locations': 1, 'dash': 2, 'say': 10, 'lurking': 1, 'sells': 4, 'recover': 2, 'saw': 10, 'any': 36, 'efficient': 1, 'shocked': 4, 'note': 49, 'equipment': 7, 'take': 98, '\\\\\\\\\\\\\\\\\\\\\\\\\\\\\\\\\\\\\\\\\\\\\\\\\\\\\\\\\\\\\\\\\\\\\\\\\\\\\\\\\\\\\\\\\\\\\\\\\\\\\\\\\\\\\\\\\\\\\\\\\\\\\\\\\\\\\\\\\\\\\\\\\\\\\\\\\\\\\\\\\\\\\\\\\\\\\\\\\\\\\\\\\\\\\\\\\\\\\\\\\\\\\\\\\\\\\\\\\\\\\\\\\\\\\\\\\\\\\\\\\\\\\\\\\\\\\\\\\\\\\\\\\\\\\\\\\\\\\\\\\\\\\\\\\\\\\\\\\\\\\\\\\\\\\\\\': 1, 'destroy': 11, 'switching': 1, 'ultimate': 4, 'surf': 1, 'begin': 2, 'sure': 15, 'multiple': 1, 'normal': 4, 'price': 3, 'keeps': 1, 'barrage': 2, 'pair': 2, 'forever': 2, 'denadoro': 3, 'dream': 8, 'average': 1, 'later': 19, 'hungry': 1, 'defeating': 2, 'clearing': 1, 'quantity': 2, 'shop': 5, 'walking': 9, 'shot': 3, 'show': 21, 'enertron': 4, 'southwestern': 1, 'corner': 5, 'line': 2, 'fifth': 1, 'ground': 14, 'slot': 1, 'melchior': 16, 'stair': 14, 'title': 1, 'treasure': 4, 'outside': 7, 'robo': 55, 'only': 41, 'going': 10, 'black': 27, 'nadia': 1, 'equipped': 4, 'robe': 3, 'dreaded': 1, \"'there's\": 3, 'guarded': 1, 'get': 233, 'hostage': 1, 'mune': 11, 'designated': 2, 'upgrade': 1, 'cannot': 8, 'nearly': 1, 'reveal': 8, 'regarding': 2, 'recharged': 1, 'morning': 2, 'craftsmanship': 1, 'where': 69, 'worrying': 1, \"friends'\": 1, 'physically': 5, 'shitake': 1, 'namely': 1, 'asleep': 2, 'seal': 5, 'heavy': 1, 'wonder': 2, 'refresher': 1, 'fails': 1, 'ways': 1, 'jumped': 1, 'mana': 2, 'shiva': 2, 'weapons': 10, 'behind': 9, 'between': 10, 'reading': 1, 'across': 1, 'notice': 29, 'originated': 2, 'screen': 18, 'dome': 38, 'killing': 1, 'concentrate': 5, 'hurts': 1, 'come': 44, 'debuggest': 1, 'residence': 11, 'enabling': 1, 'lifeline': 2, 's': 54, 'alkalines': 2, 'traded': 1, \"can't\": 30, 'allowance': 1, 'among': 7, 'cornered': 1, 'afterwards': 9, 'color': 1, 'continuation': 1, 'pot': 3, 'period': 5, 'pop': 4, 'amplifire': 3, 'anti': 1, \"couldn't\": 1, 'associated': 1, 'pod': 10, 'reappears': 1, 'destroyed': 3, 'marc': 1, 'west': 10, 'mark': 2, 'breath': 1, 'combined': 3, 'peaceful': 1, 'reflective': 1, 'jerky': 5, 'wants': 6, 'direction': 4, 'enable': 2, \"dalton's\": 2, 'further': 3, 'observe': 2, 'wake': 10, 'eaters': 1, 'careful': 2, 'ruby': 11, 'those': 14, '^': 2, 'thedoors': 3, 'prehistoric': 4, 'evilweevils': 11, 'seedling': 1, 'these': 27, 'tribal': 1, 'shockwave': 1, 'cast': 10, 'many': 16, 'vest': 17, 'eventually': 11, 'candies': 4, 'sleeping': 4, 'middle': 39, 'pressing': 4, 'croaker': 1, 'eras': 1, 'waterway': 1, 'technology': 1, 'ship': 1, 'worry': 7, \"'wings\": 1, 'helmet': 2, 'different': 15, 'proto': 22, 'pay': 4, 'reminded': 1, 'same': 16, 'epoch': 38, 'figurine': 1, 'pad': 3, 'status': 4, 'jeffrey': 1, 'finish': 12, 'centuries': 1, 'nest': 5, 'director': 3, 'persons': 2, 'running': 12, 'statue': 7, 'climbing': 4, 'swallow': 2, 'drain': 4, 'hyperether': 2, 'traps': 1, 'scouters': 1, 'charges': 1, 'no': 12, 'magical': 4, 'roly': 5, 'without': 5, 'comes': 7, 'bottle': 2, 'bumping': 1, 'amazed': 3, 'charged': 1, 'gates': 3, 'being': 8, 'tip': 2, 'guided': 1, 'rest': 4, 'risking': 1, 'kill': 17, 'touch': 1, 'speed': 27, 'captured': 1, 'blow': 1, 'death': 15, 'hint': 6, 'thinking': 1, 'rose': 1, \"everyone's\": 2, 'seems': 2, 'except': 3, 'arris': 5, 'lets': 1, 'versa': 2, \"'every\": 1, 'instructions': 2, 'kingdom': 7, 'around': 34, \"'water\": 2, 'desperately': 1, 'read': 5, 'mop': 2, 'dark': 8, 'topper': 3, 'psx': 1, 'insist': 1, 'mom': 15, 'using': 27, 'execution': 8, 'lady': 1, 'ruled': 1, 'stranger': 1, 'reduces': 1, 'greeting': 1, 'lightning': 13, 'facing': 1, 'either': 6, 'fully': 1, 'claw': 3, 'voluntarily': 1, 'nice': 1, 'learning': 2, 'joking': 1, 'doll': 13, 'titan': 2, 'pronounce': 1, 'ewww': 1, 'magma': 1, 'refresh': 1, 'kings': 2, \"members'\": 1, 'users': 1, 'provided': 1, 'slice': 2, 'ventilation': 2, 'stops': 8, 'moon': 8, 'exit': 42, 'decent': 2, 'knife': 3, 'refer': 2, 'football': 1, 'arrow': 4, 'power': 48, 'sixth': 1, 'equivalent': 1, 'inspect': 2, 'weirdest': 1, 'broken': 2, 'utter': 1, 'visits': 1, 'roaming': 4, 'exciting': 1, 'reptites': 20, 'throw': 2, \"'the\": 8, 'on': 273, 'stone': 24, 'tease': 1, 'island': 8, 'side': 42, 'journey': 2, 'stand': 5, 'aligning': 1, 'luck': 1, 'or': 51, 'flashbacks': 1, 'quietly': 1, 'burning': 2, 'disrupts': 1, 'cursed': 8, 'your': 254, 'log': 2, 'prepare': 11, 'area': 55, 'removing': 1, 'there': 117, 'sides': 2, 'start': 13, 'bromide': 2, 'low': 8, 'sealed': 20, 'kajar': 10, 'complete': 4, 'enough': 6, 'snes': 1, 'survived': 1, \"glenn's\": 1, 'trying': 1, 'with': 157, 'copied': 2, 'buying': 10, \"they're\": 5, 'arranged': 1, \"elder's\": 4, 'rescuing': 1, 'rage': 3, 'default': 4, 'bucket': 19, \"mayor's\": 5, 'agree': 4, 'rust': 3, 'gigasaur': 1, 'gone': 6, 'ad': 163, 'johnny': 7, 'certain': 9, \"'continuation\": 1, 'am': 1, 'general': 1, 'examine': 87, 'at': 177, 'walks': 1, 'girlfriend': 1, 'moves': 1, \"hearts'\": 1, 'fill': 4, 'tedious': 1, 'again': 94, \"tata's\": 1, 'elemental': 6, 'catalack': 2, 'instantly': 1, 'you': 1212, 'trash': 2, 'gaining': 1, \"a'\": 2, 'shelter': 38, 'tyran': 1, 'includes': 1, 'important': 2, 'peak': 13, 'tackle': 2, 'pool': 1, 'grudge': 1, 'remote': 3, 'masa': 14, 'wife': 4, 'acids': 1, 'fuse': 1, 'scroll': 2, 'mimic': 9, 'sewer': 6, 'starting': 1, 'original': 2, 'all': 124, 'since': 2, 'forget': 6, 'ceases': 1, 'caused': 1, 'beware': 10, 'ladders': 9, 'follow': 23, 'causes': 1, 'rd': 3, 'batches': 2, 'hunting': 3, 'switched': 1, 'tp': 42, 'to': 1544, 'tm': 2, \"square's\": 1, 'gnashers': 1, 'sound': 1, 'woman': 8, 'returned': 3, 'sitting': 4, 'very': 30, 'faq': 3, 'robes': 1, 'detention': 3, 'scout': 3, 'worst': 2, 'mps': 6, 'decide': 5, 'surprise': 5, \"foina's\": 1, 'condition': 12, 'cheerful': 1, 'joined': 1, 'large': 9, 'sand': 1, 'bangor': 5, \"octoblushes'll\": 1, 'small': 12, \"i'll\": 6, 'rats': 1, 'fence': 1, 'appearance': 1, 'golemtwins': 1, 'past': 20, 'dalton': 15, 'rate': 1, 'invention': 5, 'displays': 5, 'lawyer': 1, 'pass': 23, 'healer': 3, 'ribbon': 2, 'creatures': 3, 'what': 24, 'sun': 28, 'section': 31, 'emotions': 1, 'crush': 2, 'version': 1, 'recharge': 1, 'racing': 2, 'movement': 6, 'full': 32, 'empower': 1, 'loose': 1, 'fugitive': 2, 'strong': 6, 'legend': 1, 'search': 3, 'leveling': 1, 'houses': 6, 'experience': 3, 'soldier': 7, 'amount': 15, 'pick': 1, 'action': 2, 'spoil': 1, 'followed': 2, 'suddenly': 6, 'enactment': 1, 'screens': 2, 'put': 9, 'pulls': 1, 'enlightened': 1, 'select': 12, 'yakra': 11, 'eye': 5, 'takes': 2, 'levine': 1, 'contains': 21, 'wield': 2, 'two': 14, 'irritate': 1, 'inflicts': 1, 'taken': 15, 'more': 35, 'turbo': 1, 'door': 147, 'knows': 1, 'company': 1, 'surprisingly': 2, \"ozzie's\": 3, 'stick': 3, 'impulse': 1, 'particular': 2, 'doom': 6, 'glad': 2, 'town': 2, 'none': 4, 'guru': 4, 'spekkio': 4, 'guards': 16, 'huge': 2, \"chief's\": 2, 'vs': 1, 'learn': 4, 'smurf': 1, 'def': 1, 'beautiful': 1, 'shark': 1, \"robo's\": 5, 'challenging': 3, \"'strong\": 1, 'shard': 1, 'accept': 3, 'sense': 2, 'dress': 4, 'blew': 1, 'information': 6, 'needs': 4, 'court': 3, 'goal': 6, 'rather': 1, 'breaking': 1, 'automatic': 1, 'earnings': 1, 'explains': 1, 'creature': 1, 'plant': 2, 'circuit': 1, 'derived': 1, 'zenan': 6, 'tries': 2, 'disable': 1, 'adventure': 3, 'coming': 2, 'a': 803, 'chute': 4, 'short': 12, 'footsteps': 3, 'anytime': 2, 'dragon': 3, 'chancellors': 1, 'megasaur': 2, 'egg': 9, 'playing': 2, \"that's\": 9, 'help': 16, \"don't\": 88, 'winged': 2, 'mission': 2, 'trade': 6, 'held': 1, 'attitude': 3, 'through': 62, 'lasers': 5, 'helm': 25, 'existence': 1, 'its': 20, 'imps': 7, 'slipped': 1, 'actually': 21, 'late': 2, 'resort': 1, 'bypass': 1, 'stephen': 2, 'might': 6, \"haven't\": 4, 'dolls': 12, 'fool': 1, 'good': 13, 'return': 54, 'food': 3, 'martello': 2, 'number': 2, 'walls': 3, \"you've\": 19, 'accumulate': 1, 'sucked': 2, 'easily': 2, 'always': 11, 'evade': 2, 'someone': 4, 'stopped': 3, 'turns': 1, 'found': 10, 'shocking': 1, 'leveled': 1, \"isn't\": 4, 'barrels': 1, 'reactions': 1, 'everyone': 21, 'generation': 2, 'house': 47, 'energy': 4, 'hard': 24, 'reduce': 3, 'idea': 1, 'brother': 2, 'engaging': 1, 'fist': 3, 'scratching': 1, 'event': 9, 'really': 7, 'deals': 1, 'neanderthal': 1, 'surrounded': 2, 'si': 1, 'fountain': 2, \"they'll\": 5, 'cyclone': 2, \"lavos'\": 1, 'evilweevil': 6, 'pathetic': 2, 'guess': 11, \"belthasar's\": 1, 'difficulty': 1, 'reason': 3, 'base': 3, 'members': 20, 'imagine': 1, 'ask': 8, 'teach': 1, 'rises': 1, 'beginning': 7, 'plowing': 1, 'bushes': 1, 'bumped': 1, 'revival': 1, 'launch': 1, 'prophet': 6, \"woman's\": 2, 'w': 21, 'scouts': 4, 'castle': 45, 'fallen': 1, 'throws': 2, 'major': 4, 'takers': 1, 'probability': 1, 'upper': 46, 'feel': 1, 'arsenal': 1, 'traveled': 1, 'aaronph': 1, 'elder': 4, 'brave': 2, 'done': 7, 'elevator': 15, 'blank': 1, 'mist': 3, 'story': 3, 'heads': 1, 'jet': 1, 'introduction': 1, 'leading': 2, 'tata': 9, 'revive': 15, 'least': 1, 'sentries': 1, 'passed': 2, \"displays'\": 1, 'store': 1, 'selling': 4, 'option': 2, 'trapped': 2, 'ruminators': 4, 'part': 28, 'sheer': 2, 'stairs': 38, 'king': 21, 'aeon': 9, 'b': 4, 'kino': 12, 'outrageous': 3, 'stall': 1, 'supposed': 2, 'alongside': 1, 'ages': 11, 'randomly': 1, 'guarding': 3, 'fiona': 6, 'orders': 1, 'sell': 5, 'mountain': 15, \"ayla's\": 10, 'built': 1, 'cave': 36, 'also': 82, 'breeze': 1, 'useless': 4, 'finding': 2, 'play': 16, 'towards': 7, 'eggs': 5, 'reach': 80, 'most': 31, 'deaddays': 2, 'charm': 10, 'nothing': 3, 'extremely': 1, 'incase': 1, 'clear': 1, 'sometimes': 1, 'treasures': 10, 'tps': 1, 'bodies': 2, 'exp': 47, 'barrel': 4, 'attacking': 9, 'joining': 2, 'stones': 2, 'despise': 1, 'hyper': 9, 'gold': 8, 'exterminate': 1, 'scattered': 2, 'carefully': 3, 'defender': 2, 'find': 47, 'enhasa': 5, 'completion': 1, 'cell': 5, 'giant': 1, 'northern': 6, 'penalty': 1, 'pretty': 2, 'money': 5, 'lornedixon': 1, 'his': 83, 'triangle': 1, 'permission': 2, 'beams': 1, 'kind': 5, 'trees': 5, 'preparing': 1, 'basement': 1, 'combinations': 1, 'during': 7, 'him': 126, 'restart': 3, 'enemy': 5, 'spikes': 3, 'choras': 11, 'remove': 5, 'common': 1, 'x': 14, 'river': 3, 'set': 10, 'tree': 3, 'carrying': 1, 'vine': 1, 'see': 289, 'defense': 24, 'are': 133, 'sea': 1, 'close': 3, 'arm': 22, 'visiting': 1, 'deactivate': 2, 'wow': 1, 'please': 2, 'won': 5, \"dalton'll\": 1, 'woe': 2, 'probably': 4, 'conditions': 3, 'monsters': 43, 'knowing': 1, 'tristan': 1, 'creating': 1, 'missing': 2, 'erng': 2, 'sold': 1, 'attention': 1, 'punch': 4, 'incident': 1, 'succeed': 1, 'bronze': 6, 'both': 21, 'c': 12, 'last': 11, 'reverse': 2, 'mega': 4, 'secrets': 1, 'explore': 1, 'became': 1, 'thrashers': 1, 'bridge': 28, 'simple': 5, 'sweet': 2, 'others': 3, 'whatever': 5, 'dancer': 1, 'simply': 2, 'village': 45, 'throughout': 1, 'beats': 3, 'belt': 21, 'duh': 1, 'helms': 3, 'raise': 4, 'conveyor': 21, 'jugglers': 4, 'create': 1, 'blink': 1, 'strategy': 22, 'whom': 4, 'armors': 4, 'ph': 1, 'meeting': 1, 'resting': 2, 'dialogue': 5, 'boy': 7, 'fire': 25, 'krawlie': 5, 'slideshow': 1, 'else': 1, 'moment': 2, 'fritz': 1, 'lives': 2, 'specifically': 3, 'prices': 4, 'stolen': 3, 'look': 7, 'balloons': 2, 'straight': 5, 'tolerate': 1, 'batch': 34, 'rope': 2, 'while': 19, 'kick': 3, 'error': 2, 'fun': 4, 'robin': 3, 'pack': 4, 'real': 17, \"r'bow\": 1, 'backing': 1, 'mystic': 12, 'demon': 2, 'decoration': 2, 'itself': 2, 'triple': 5, 'ready': 2, 'rid': 1, 'bow': 7, 'raiders': 1, 'anymore': 8, 'gugliuzza': 1, 'wherein': 9, 'rules': 2, 'lashers': 1, 'higher': 1, 'development': 2, 'hallway': 3, 'used': 10, 'tower': 1, 'snail': 1, 'paths': 2, 'bonus': 1, 'reptite': 4, \"melchior's\": 6, 'alert': 1, 'doan': 5, 'levels': 3, 'moving': 12, 'cleaning': 1, 'climb': 31, 'lower': 52, 'task': 2, 'jamescon': 1, 'spent': 2, 'person': 9, 'edge': 4, 'machinery': 2, 'y': 7, 'ozzie': 36, 'howl': 1, 'things': 8, 'abilities': 2, 'quarters': 3, 'whopping': 1, 'world': 86, 'tables': 1, 'password': 9, 'cup': 2, 'workers': 2, \"mune'll\": 1, 'pillars': 9, 'taban': 13, 'dixon': 2, 'remaining': 1, 'surprised': 1, 'bin': 2, 'emergency': 1, 'big': 30, 'couple': 6, 'valkerye': 2, 'game': 62, 'quest': 25, 'guide': 7, 'falcon': 1, 'bit': 28, 'wings': 5, 'helpful': 1, 'success': 1, 'pillar': 7, 'glove': 2, 'ignore': 10, 'collect': 1, 'continue': 48, 'sketch': 1, 'often': 1, 'course': 1, 'absolutely': 2, 'spring': 2, 'some': 21, 'back': 182, 'strongest': 1, 'candy': 1, 'sight': 5, 'erupts': 1, 'delivered': 1, 'pet': 1, 'affects': 1, 'decision': 2, 'shall': 3, 'crisis': 2, 'lara': 1, 'slash': 21, 'leftmost': 2, 'be': 255, 'run': 27, 'bc': 41, 'vedic': 2, 'word': 1, 'refused': 1, 'step': 6, 'crono': 83, 'elixir': 21, 'by': 95, 'projector': 1, 'shine': 2, 'anything': 11, 'mario': 1, 'completing': 1, 'range': 3, 'comcom': 1, 'cybot': 1, 'block': 1, 'repair': 3, 'heckran': 5, 'into': 36, 'within': 2, 'frames': 1, 'chang': 1, 'megaelixirs': 2, 'retrieving': 1, 'placing': 1, 'question': 1, 'long': 8, 'dodgers': 1, 'suit': 8, 'forward': 3, 'translate': 1, '\\\\': 3, 'opponent': 1, 'mountains': 11, 'himself': 10, 'invite': 3, 'registered': 2, 'serval': 1, 'properly': 1, 'fishy': 1, 'delta': 1, 'crane': 5, 'posted': 1, 'info': 11, 'charmed': 40, 'skull': 13, 'arriving': 1, 'up': 146, 'continuously': 5, 'fried': 2, 'called': 3, 'bell': 10, 'supervisor': 1, 'cowboys': 1, 'single': 11, 'cure': 1, 'graceful': 1, 'tempurites': 2, 'work': 4, 'as': 95, 'rainbow': 15, 'ancestors': 1, 'decedents': 5, 'sunken': 2, 'corners': 1, 'rains': 1, 'fixing': 2, 'peace': 1, 'preventing': 3, 'definitely': 1, 'forge': 2, 'sorcerer': 2, \"edler's\": 1, 'lend': 2, 'robots': 5, 'medina': 20, 'prepared': 2, 'replace': 1, 'meaning': 1, 'kaiser': 2, 'vigil': 4, 'desert': 6, 'structure': 2, 'rightful': 1, 'ago': 5, 'land': 9, 'e': 3, 'vice': 2, 'rescued': 1, 'holes': 17, 'timebars': 1, 'summit': 1, 'came': 7, 'far': 5, 'having': 2, 'once': 40, 'code': 4, 'scratch': 2, 'nuns': 4, 'alien': 1, 'go': 256, 'flashback': 2, 'young': 1, 'send': 2, 'easiest': 3, 'babes': 1, 'include': 2, 'sent': 1, 'random': 2, \"'not\": 1, 'kitty': 1, 'wave': 2, 'wishes': 1, 'telling': 2, 'drinking': 2, 'arrange': 1, 'entire': 3, 'magic': 98, 'knight': 7, 'button': 19, 'shock': 2, 'eve': 1, 'try': 43, 'race': 14, 'verdict': 2, 'dealt': 1, 'freed': 2, 'ride': 2, 'laruba': 1, 'grimalkins': 2, 'jump': 19, 'traveling': 1, 'zz': 4, 'golems': 2, 'acid': 2, 'odd': 1, 'victor': 1, 'wallet': 2, 'giving': 4, 'dactyls': 2, 'reaching': 7, \"man's\": 1, 'access': 15, 'waiting': 2, 'twins': 6, 'bird': 1, 'body': 42, 'chose': 1, 'exchange': 2, 'respectively': 2, 'beasts': 5, 'pushing': 4, 'teleportation': 3, 'scythe': 2, 'northeast': 6, 'let': 15, 'healing': 4, \"nu's\": 1, 'consideration': 1, 'kidnapped': 1, 'great': 5, 'engage': 1, 'copyright': 1, 'credits': 19, 'receive': 17, 'shades': 2, 'haunts': 2, 'leaving': 10, 'suggests': 2, 'janus': 5, \"weren't\": 4, 'defeat': 12, 'opinion': 2, 'residents': 1, 'makes': 3, 'examining': 6, 'named': 2, 'slain': 2, 'duct': 1, 'win': 19, 'charge': 13, 'crazy': 3, 'poyozo': 26, 'volt': 2, 'ran': 1, 'decrease': 3, 'names': 2, 'duck': 1, 'clockwise': 2, 'tools': 8, 'manipulate': 1, 'ape': 3, 'standing': 5, 'use': 225, 'refers': 1, 'from': 96, 'remains': 1, 'frog': 45, 'next': 95, 'few': 9, 'lock': 1, 'themselves': 1, 'gained': 1, 'started': 3, 'becomes': 1, \"'zabie\": 2, 'train': 1, 'retinite': 3, 'circle': 3, 'hints': 1, 'sample': 1, 'this': 170, 'challenge': 5, 'when': 121, 'insists': 1, 'pour': 3, 'enjoying': 1, 'anywhere': 1, 'obvious': 1, 'praise': 1, 'of': 585, 'meet': 30, 'drops': 1, 'proof': 1, 'control': 24, 'wedge': 4, 'slip': 1, 'escapes': 2, 'process': 2, 'belthasar': 2, 'rode': 1, 'ette': 2, 'high': 2, 'hotmail': 3, 'something': 13, 'tab': 75, 'hit': 10, 'lavos': 80, 'paws': 1, 'skirt': 1, 'weaken': 2, 'hesitate': 1, 'memorize': 2, 'sit': 1, 'destroying': 2, 'meanwhile': 1, \"king's\": 1, 'located': 4, 'silent_one': 1, 'forest': 23, 'instead': 17, 'stock': 1, 'stop': 12, 'roam': 1, \"brain's\": 1, 'rations': 1, 'men': 5, 'curative': 2, \"lucca's\": 36, 'efficiently': 1, 'realized': 1, 'bombers': 1, 'chasing': 2, 'light': 10, 'counter': 10, 'norstein': 6, 'robot': 12, 'element': 1, 'chief': 1, 'allow': 6, \"'total\": 1, 'lined': 1, 'counted': 1, 'holds': 1, 'move': 79, 'tyrano': 19, \"won't\": 23, 'looks': 4, 'horns': 9, 'mentioned': 1, 'boosts': 1, 'perfect': 1, 'bridges': 4, 'revived': 2, 'outer': 1, 'housewife': 1, 'winning': 1, 'lr': 1, 'choose': 3, 'spreading': 1, 'dad': 2, 'sapling': 1, 'crash': 1, 'sword': 26, 'descendants': 1, 'flunkys': 1, 'spell': 1, 'bat': 2, 'mention': 1, 'bothering': 1, 'legendary': 1, 'hands': 5, 'front': 9, 'flee': 1, 'day': 3, \"l'\": 1, 'february': 1, 'merge': 1, 'mode': 10, 'fields': 1, 'beneath': 1, 'shaking': 1, 'promises': 1, 'activate': 12, 'bump': 3, 'globe': 1, 'winked': 1, 'books': 1, 'changed': 1, 'our': 1, 'special': 5, 'out': 54, 'entertainment': 1, 'armor': 12, 'defend': 1, 'chaos': 1, 'stud': 8, 'announced': 1, \"one's\": 1, 'shut': 2, 'perish': 1, 'elixirs': 4, 'spot': 2, 'reacts': 1, 'maintains': 2, 'diagonal': 1, 'greedy': 1, 'completely': 1, 'surely': 3, 'pendant': 15, 'masamune': 16, 'princess': 5, 'shortest': 1, 'her': 74, 'g': 91, 'ruins': 20, 'could': 1, 'times': 15, 'regaining': 14, 'hench': 1, 'assumed': 1, 'barriers': 2, 'lancer': 3, 'scarf': 6, 'powerful': 30, 'scene': 32, 'reaches': 2, 'strategic': 1, 'owner': 1, 'reached': 3, \"you're\": 23, 'monkey': 1, 'festival': 1, 'revealed': 2, 'chased': 3, 'system': 4, 'grow': 1, 'their': 22, 'attack': 91, 'cats': 10, 'perfectly': 1, 'final': 10, 'shell': 21, 'lot': 3, 'eavesdrop': 1, 'exactly': 1, 'gargoyles': 1, 'whaaa': 1, 'goblin': 12, 'herself': 1, 'commence': 1, 'omen': 12, 'steel': 7, \"magus'\": 16, 'bother': 1, 'roberto': 3, \"spekkio's\": 1, 'visited': 1, 'bet': 4, 'wakes': 1, 'tabs': 8, 'lines': 1, 'xenogears': 1, 'have': 187, 'need': 13, 'skeletons': 1, 'skulls': 4, 'drains': 1, 'able': 28, 'mid': 60, 'battles': 1, 'which': 91, 'jail': 2, 'spawns': 2, 'blades': 2, 'unless': 1, 'manor': 7, 'who': 32, 'mimics': 1, 'petals': 10, 'connected': 1, 'device': 12, 'future': 12, 'medal': 7, 'why': 5, 'gurus': 2, 'volunteers': 1, 'stronger': 5, 'face': 8, \"you'll\": 509, 'undersea': 1, \"'enter\": 2, 'normally': 1, 'planks': 4, 'fact': 2, 'son': 11, 'selection': 1, 'lorne': 2, 'mistook': 1, 'skyways': 1, 'stove': 1, 'anyway': 7, 'bring': 7, 'naga': 3, 'soldiers': 4, 'shield': 2, 'based': 3, 'sparks': 1, 'downstairs': 1, 'winner': 4, 'controls': 2, 'should': 7, 'buttons': 11, \"there's\": 19, 'various': 1, 'partially': 2, 'achieve': 4, 'finger': 2, 'cube': 1, 'means': 6, 'beat': 133, 'familiar': 8, 'lucky': 1, 'ones': 10, 'joins': 4, 'entity': 1, 'scrolling': 1, 'fangs': 9, 'organ': 2, 'belts': 4, 'secret': 3, 'summon': 11, '\\\\\\\\\\\\\\\\\\\\\\\\\\\\\\\\\\\\\\\\\\\\\\\\\\\\\\\\\\\\\\\\\\\\\\\\\\\\\\\\\\\\\\\\\\\\\\\\\\\\\\\\\\\\\\\\\\\\\\\\\\\\\\\\\\\\\\\\\\\\\\\\\\\\\\\\\\\\\\\\\\\\\\\\\\\\\\\\\\\\\\\\\\\\\\\\\\\\\\\\\\\\\\\\\\\\\\\\\\\\\\\\\\\\\\\\\\\\\\\\\\\\\\\\\\\\\\\\\\\\\\\\\\\\\\\\\\\\\\\\\\\\\\\\': 1, 'she': 30, 'contain': 4, 'including': 12, 'view': 3, 'guessing': 1, 'btw': 1, 'computed': 1, 'exists': 1, \"'xaby\": 2, 'frame': 1, 'cuts': 1, 'humans': 3, \"giant's\": 3, 'computer': 9, 'dungeon': 1, 'jurassic': 2, 'placed': 2, 'magus': 40, 'invulnerable': 1, 'written': 4, 'fifties': 1, 'closed': 5, 'neither': 1, 'tent': 4, 'ends': 2, 'ability': 5, 'opening': 8, 'importance': 1, 'deliver': 1, 'huts': 2, 'joe': 1, 'key': 14, 'blackbird': 7, \"doan's\": 1, 'david': 2, 'hits': 1, 'buster': 4, 'freely': 1, 'taking': 2, 'ramp': 1, 'etc': 2, 'passing': 2, 'lofty': 2, 'otherwise': 1, 'co': 2, 'conclude': 1, 'wall': 13, \"guards'll\": 1, 'walk': 24, \"dactyl's\": 8, 'laugh': 3, 'table': 3, 'luminaire': 10, 'ct': 1, 'ioka': 9, \"it's\": 37, 'henches': 10, 'dazzling': 1, 'inflict': 1, 'outlaws': 6, 'immense': 1, 'slowly': 4, 'feather': 1, 'revives': 2, 'juggler': 5, 'senses': 1, 'controlled': 1, 'finishes': 1, 'stationed': 1, 'route': 26, 'defunct': 3, 'hmm': 1, 'finished': 9, 'an': 62, 'present': 4, 'laser': 11, 'splits': 4, 'harder': 1, \"bekkler's\": 5, 'choices': 1, 'will': 657, 'vicks': 6, 'happened': 7, \"'roichlem\": 1, 'rename': 1, 'thelaser': 2, 'mutant': 8, 'almost': 8, 'demo': 1, 'thus': 1, 'non': 1, 'surface': 1, 'examined': 4, 'dual': 7, 'hearted': 1, 'conserve': 1, 'impervious': 1, 'capture': 2, 'grinder': 3, 'cross': 15, 'member': 1, 'cyrus': 8, 'parts': 3, 'northwest': 6, 'digging': 3, 'party': 69, 'gets': 1, 'hypnowave': 1, 'condamines': 1, 'http': 1, 'drink': 5, 'upon': 30, 'effect': 1, 'beast': 5, 'ion': 1, \"'okay\": 1, 'dust': 3, 'frequently': 1, 'magician': 2, 'identity': 1, 'pull': 3, 'off': 19, 'center': 2, 'i': 70, 'disappears': 3, 'weapon': 9, 'well': 9, 'fighting': 9, 'thought': 1, 'command': 1, 'flint': 1, 'muscle': 3, 'courtroom': 3, 'restore': 24, 'kiss': 2, 'less': 2, 'geno': 6, 'obtain': 1, 'mistaken': 1, 'replenish': 4, 'flea': 28, 'stored': 1, 'distant': 2, 'rooms': 5, 'console': 8, 'point': 54, 'prism': 10, 'knew': 1, 'killed': 7, 'drew': 1, 'add': 2, 'onwards': 1, 'voila': 1, 'usage': 1, 'villagers': 6, 'throne': 15, 'ought': 1, 'sonic': 2, 'sick': 1, 'chancellor': 13, 'fyi': 1, 'increases': 1, 'historic': 2, 'leene': 19, 'know': 15, 'desk': 1, 'press': 19, 'immediately': 4, 'intersection': 37, \"nizbel's\": 1, 'descendant': 1, 'loss': 1, 'forcing': 1, 'necessary': 15, 'like': 35, 'lost': 5, 'clown': 2, 'parasite': 1, 'controllers': 1, 'lose': 9, 'schala': 20, 'become': 3, 'funniest': 1, 'works': 2, 'page': 1, 'accessible': 4, 'because': 52, 'sequence': 2, 'elevators': 2, 'debuggests': 5, 'scared': 2, 'church': 1, 'home': 3, 'transport': 3, 'happens': 3, 'bantam': 4, 'lead': 12, 'does': 6, 'bosses': 5, 'speak': 5, 'chains': 2, 'leader': 3, 'trap': 7, 'regain': 9, 'slight': 2, 'selecting': 2, 'host': 1, 'residences': 1, 'terra': 6, 'panel': 2, 'tonics': 11, 'about': 64, 'actual': 2, 'puts': 1, 'getting': 25, 'duo': 1, 'chance': 1, 'sidekick': 1, 'carries': 1, 'seeds': 1, 'toma': 10, 'introduced': 1, 'mammon': 12, 'own': 2, 'glenn': 9, 'previously': 1, 'seedlings': 1, 'included': 1, 'guard': 11, 'female': 2, 'dug': 2, 'terminated': 1, 'cleanse': 1, 'jinn': 7, \"bit's\": 1, 'spots': 1, 'kidding': 1, 'doing': 8, 'trigger': 33, 'maze': 4, \"'one\": 1, 'buy': 15, 'north': 163, \"i've\": 5, 'hp': 114, 'mutter': 1, 'but': 104, 'golderng': 1, 'lowered': 2, 'gain': 12, 'bookshelf': 1, 'gaia': 9, 'he': 128, 'count': 18, 'made': 4, 'places': 4, 'whether': 2, 'wish': 5, \"ko'd\": 1, 'smooth': 1, 'record': 1, 'below': 27, 'limit': 1, 'cake': 3, 'problem': 3, 'piece': 2, 'display': 1, 'pin': 1, 'deaths': 1, 'recognize': 2, 'rubble': 3, 'inn': 5, \"queen's\": 1, 'periods': 2, 'goodness': 1, 'kissed': 1, 'happen': 3, 'contest': 1, 'hps': 10, 'attacked': 2, 'other': 50, 'details': 1, 'ledge': 2, 'repeat': 3, 'star': 4, 'footprints': 1, 'june': 2, 'kilwala': 2, 'stay': 8, 'skyway': 5, 'nintendo': 2, 'gap': 4, 'friends': 3, 'cliff': 3, 'ghost': 2, 'hallation': 3, 'portion': 7, 'determination': 2, 'porre': 14, 'rubyheart': 1}\n"
      }
     ],
     "prompt_number": 165
    },
    {
     "cell_type": "markdown",
     "metadata": {},
     "source": "The main characters in this game are **Crono**, **Marle**, **Lucca**, **Frog**, **Robo**, and **Magus**. Let's see how often they're mentioned."
    },
    {
     "cell_type": "code",
     "collapsed": false,
     "input": "heroes = ['crono','marle','lucca','frog','robo','ayla','magus']\nfor hero in heroes:\n    print \"{name}: {count} mentions\".format(name=hero.capitalize(),count=chronoFreq[hero])",
     "language": "python",
     "metadata": {},
     "outputs": [
      {
       "output_type": "stream",
       "stream": "stdout",
       "text": "Crono: 83 mentions\nMarle: 83 mentions\nLucca: 58 mentions\nFrog: 45 mentions\nRobo: 55 mentions\nAyla: 30 mentions\nMagus: 40 mentions\n"
      }
     ],
     "prompt_number": 131
    },
    {
     "cell_type": "markdown",
     "metadata": {},
     "source": "More generally, let's see what the 30 most frequent words are. What will we have to do?\n\n1. Get the dictionary items as a list (so we can sort it)\n2. Sort the list by values\n3. Print the 30 largest items"
    },
    {
     "cell_type": "code",
     "collapsed": false,
     "input": "def freq_dict_to_list(frequencies):\n    freq_list = frequencies.items()\n\n    def getCounts(item):\n        return item[1]\n\n    freq_list.sort(key= getCounts, reverse= True)\n    return freq_list\n\n    # More compact:\n    #return sorted(frequencies.items(),key=lambda x:x[1],reverse=True)\n    \nprint freq_dict_to_list(chronoFreq)[:30]",
     "language": "python",
     "metadata": {},
     "outputs": [
      {
       "output_type": "stream",
       "stream": "stdout",
       "text": "[('the', 3304), ('to', 1544), ('you', 1212), ('and', 1068), ('a', 803), ('will', 657), ('of', 585), (\"you'll\", 509), ('head', 462), ('in', 457), ('it', 360), ('that', 357), ('after', 315), ('is', 312), ('then', 291), ('see', 289), ('on', 273), ('now', 270), ('if', 257), ('go', 256), ('be', 255), ('your', 254), ('right', 242), ('for', 242), ('can', 237), ('get', 233), ('use', 225), ('here', 212), ('have', 187), ('back', 182)]\n"
      }
     ],
     "prompt_number": 133
    },
    {
     "cell_type": "markdown",
     "metadata": {},
     "source": "Let's make this look a little nicer by putting a wrapper on it called top30() that takes a frequency dictionary"
    },
    {
     "cell_type": "code",
     "collapsed": false,
     "input": "def top30(freqDict):\n    freqList = freq_dict_to_list(freqDict)\n    for i in range(0,30):\n        print \"{rank}) {word}: {count}\".format(rank=i+1,word=freq_list[i][0],count=freq_list[i][1])\n    return None\n\ntop30(chronoFreq)",
     "language": "python",
     "metadata": {},
     "outputs": [
      {
       "output_type": "stream",
       "stream": "stdout",
       "text": "1) ll: 610\n2) head: 462\n3) s: 404\n4) is: 312\n5) right: 242\n6) here: 230\n7) left: 179\n8) t: 169\n9) north: 163\n10) ad: 162\n11) room: 156\n12) chest: 153\n13) door: 147\n14) are: 133\n15) beat: 133\n16) crono: 130\n17) fight: 125\n18) talk: 116\n19) enter: 115\n20) hp: 114\n21) item: 112\n22) another: 99\n23) magic: 98\n24) down: 97\n25) save: 95\n26) next: 95\n27) lucca: 94\n28) again: 94\n29) attack: 91\n30) don: 88\n"
      }
     ],
     "prompt_number": 135
    },
    {
     "cell_type": "markdown",
     "metadata": {},
     "source": "Hmm, not super useful, given all the common words mixed in. Let's filter the 100 most common English words. (http://en.wikipedia.org/wiki/Most_common_words_in_English)\n\n1. Load the common words into a list\n2. Create a function that takes a frequency dictionary and a list, and returns a dictionary with the items listed removed\n3. Print top30() on the new dict"
    },
    {
     "cell_type": "code",
     "collapsed": false,
     "input": "commonList = tokenizeFile(\"../data/100_most_common.txt\")",
     "language": "python",
     "metadata": {},
     "outputs": [],
     "prompt_number": 151
    },
    {
     "cell_type": "code",
     "collapsed": false,
     "input": "def filterFreq(freqDict, filterList):\n    filteredFreq = {}\n    #common_cust = ['is','are','were']\n    for word in freqDict:\n            if word not in filterList: # and word not in common_cust:\n                filteredFreq[word] = freqDict[word]\n    return filteredFreq\n\nfilteredChronoFreq = filterFreq(chronoFreq, commonList)",
     "language": "python",
     "metadata": {},
     "outputs": [],
     "prompt_number": 148
    },
    {
     "cell_type": "code",
     "collapsed": false,
     "input": "top30(filteredChronoFreq)",
     "language": "python",
     "metadata": {},
     "outputs": [
      {
       "output_type": "stream",
       "stream": "stdout",
       "text": "1) ll: 610\n2) head: 462\n3) s: 404\n4) is: 312\n5) right: 242\n6) here: 230\n7) left: 179\n8) t: 169\n9) north: 163\n10) ad: 162\n11) room: 156\n12) chest: 153\n13) door: 147\n14) are: 133\n15) beat: 133\n16) crono: 130\n17) fight: 125\n18) talk: 116\n19) enter: 115\n20) hp: 114\n21) item: 112\n22) another: 99\n23) magic: 98\n24) down: 97\n25) save: 95\n26) next: 95\n27) lucca: 94\n28) again: 94\n29) attack: 91\n30) don: 88\n"
      }
     ],
     "prompt_number": 149
    },
    {
     "cell_type": "markdown",
     "metadata": {},
     "source": "## Writing to files\n\nLet's quickly save the results of `top30()` to a new file in the working directory."
    },
    {
     "cell_type": "code",
     "collapsed": false,
     "input": "f = open(\"top30.txt\",\"w\")\n#f.write(top30(filteredChronoFreq)) #Fails! Can only write a string.\nf.close()",
     "language": "python",
     "metadata": {},
     "outputs": [],
     "prompt_number": 153
    },
    {
     "cell_type": "markdown",
     "metadata": {},
     "source": "We need a different version of `top30()`. Let's have it write to a new file, tab delimited. (How might we do this in a better way than I have below?)"
    },
    {
     "cell_type": "code",
     "collapsed": false,
     "input": "# We need a new version of top30()\ndef top30tabbed(freqDict):\n    freqList = freq_dict_to_list(freqDict)\n    output = ''''''\n    for i in range(0,30):\n        output += str(i+1) + \"\\t\" + freq_list[i][0] + \"\\t\" + str(freq_list[i][1]) + \"\\n\"\n    return output",
     "language": "python",
     "metadata": {},
     "outputs": [],
     "prompt_number": 156
    },
    {
     "cell_type": "code",
     "collapsed": false,
     "input": "f = open(\"top30.txt\",\"w\")\nf.write(top30string(filteredChronoFreq))\nf.close()",
     "language": "python",
     "metadata": {},
     "outputs": [],
     "prompt_number": 158
    },
    {
     "cell_type": "code",
     "collapsed": false,
     "input": "",
     "language": "python",
     "metadata": {},
     "outputs": []
    }
   ],
   "metadata": {}
  }
 ]
}