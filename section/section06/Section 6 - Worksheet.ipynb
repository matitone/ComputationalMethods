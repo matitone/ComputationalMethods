{
 "metadata": {
  "name": "Section 6 - Worksheet"
 },
 "nbformat": 3,
 "nbformat_minor": 0,
 "worksheets": [
  {
   "cells": [
    {
     "cell_type": "markdown",
     "metadata": {},
     "source": "# Welcome to week 6!\n\nThis notebook is in my repository at http://github.com/obnorthrup/144coursework\n\n## Today: Regular Expressions and tree structures in Python\n\nWe've seen that regex alone can't match parentheses. Let's augment it with Python to solve that problem (in a couple steps). Later, we'll convert a properly matched string into a tree representation.\n\n#### Version 1: Counting parens\n\nUse any method from the `re` module to search the input string. Return True if there are an equal number of open and close parens, and False otherwise."
    },
    {
     "cell_type": "code",
     "collapsed": false,
     "input": "import re\n\ndef isMatched(string):\n    \n    # Your code here\n    \n    return False\n\nif __name__ == \"__main__\":\n    goodTest = \"(the (quick (brown (fox))))\"\n    badTest = \"(the (quick brown (fox))))\"\n    print isMatched(goodTest) # Should be True\n    print isMatched(badTest) # Should be False",
     "language": "python",
     "metadata": {},
     "outputs": [
      {
       "output_type": "stream",
       "stream": "stdout",
       "text": "True\nFalse\n"
      }
     ],
     "prompt_number": 13
    },
    {
     "cell_type": "markdown",
     "metadata": {},
     "source": "#### Version 2:\n\nThis code works for the `goodTest` and `badTest` inputs above, but fails on `weirdTest`. That's because if all we do is count blindly, `\"()\"` and `\")(\"` are equally well-formed. Rewrite your function to return False for illformed inputs like `weirdTest`."
    },
    {
     "cell_type": "code",
     "collapsed": false,
     "input": "import re\n\ndef isMatched(string):\n    \n    # Your code here\n    \n    return False\n\nif __name__ == \"__main__\":\n    goodTest = \"(the (quick (brown (fox))))\"\n    badTest = \"(the (quick brown (fox))))\"\n    weirdTest = \")()(\"\n    print isMatched(goodTest) # Should be True\n    print isMatched(badTest) # Should be False\n    print isMatched(weirdTest) # Should be False",
     "language": "python",
     "metadata": {},
     "outputs": [
      {
       "output_type": "stream",
       "stream": "stdout",
       "text": "True\nFalse\nFalse\n"
      }
     ],
     "prompt_number": 14
    },
    {
     "cell_type": "markdown",
     "metadata": {},
     "source": "## Challenge\n\nInstead of a boolean value, return a constituent structure of lists. So the input `((Brigid) (followed (the detective)))` should yield `[[\"Brigid\"], [\"followed\", [\"the\", \"detective\"]]]`.\n\n**Note**: This is hard. The actual code is less important than thinking about how you'd do it."
    },
    {
     "cell_type": "code",
     "collapsed": false,
     "input": "import re\n\ndef listParse(string):\n    \n    # Your code here.\n            \n    return string # Change this to return return the list where you've built your tree\n\nif __name__ == \"__main__\":\n    maltese = \"((Brigid) (followed (the detective)))\"\n    print listParse(maltese)",
     "language": "python",
     "metadata": {},
     "outputs": [
      {
       "output_type": "stream",
       "stream": "stdout",
       "text": "((Brigid) (followed (the detective)))\n"
      }
     ],
     "prompt_number": 1
    },
    {
     "cell_type": "code",
     "collapsed": false,
     "input": "quick = \"((The (quick brown fox)) (jumped (over (the (lazy dog)))))\"\nprint listParse(quick)",
     "language": "python",
     "metadata": {},
     "outputs": [
      {
       "output_type": "stream",
       "stream": "stdout",
       "text": "((The (quick brown fox)) (jumped (over (the (lazy dog)))))\n"
      }
     ],
     "prompt_number": 2
    },
    {
     "cell_type": "code",
     "collapsed": false,
     "input": "",
     "language": "python",
     "metadata": {},
     "outputs": []
    }
   ],
   "metadata": {}
  }
 ]
}