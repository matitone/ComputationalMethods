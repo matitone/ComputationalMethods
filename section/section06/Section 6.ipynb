{
 "metadata": {
  "name": "Section 6"
 },
 "nbformat": 3,
 "nbformat_minor": 0,
 "worksheets": [
  {
   "cells": [
    {
     "cell_type": "markdown",
     "metadata": {},
     "source": "# Welcome to week 6!\n\nThis notebook is in my repository at http://github.com/obnorthrup/144coursework\n\n## Today: Regular Expressions and tree structures in Python\n\nWe've seen that regex alone can't match parentheses. Let's augment it with Python to solve that problem (in a couple steps). Later, we'll convert a properly matched string into a tree representation.\n\n#### Version 1: Counting parens\n\nUse any method from the `re` module to search the input string. Return True if there are an equal number of open and close parens, and False otherwise."
    },
    {
     "cell_type": "code",
     "collapsed": false,
     "input": "import re\n\ndef isMatched(string):\n    matches = re.findall(r'[\\(\\)]',string)\n    pairCount = 0\n    for m in matches:\n        if m == '(':\n            pairCount += 1\n        else:\n            pairCount += -1\n    if pairCount == 0:\n            return True\n    return False\n\nif __name__ == \"__main__\":\n    goodTest = \"(the (quick (brown (fox))))\"\n    badTest = \"(the (quick brown (fox))))\"\n    print isMatched(goodTest)\n    print isMatched(badTest)",
     "language": "python",
     "metadata": {},
     "outputs": [
      {
       "output_type": "stream",
       "stream": "stdout",
       "text": "True\nFalse\n"
      }
     ],
     "prompt_number": 13
    },
    {
     "cell_type": "markdown",
     "metadata": {},
     "source": "All it takes is regular expressions plus a counter."
    },
    {
     "cell_type": "markdown",
     "metadata": {},
     "source": "#### Version 2:\n\nThis code works for the `goodTest` and `badTest` inputs above, but fails on `weirdTest`. That's because if all we do is count blindly, `\"()\"` and `\")(\"` are equally well-formed. Rewrite your function to return False for illformed inputs like `weirdTest`."
    },
    {
     "cell_type": "code",
     "collapsed": false,
     "input": "import re\n\ndef isMatched(string):\n    matches = re.findall(r'[\\(\\)]',string)\n    pairCount = 0\n    for m in matches:\n        if m == '(':\n            pairCount += 1\n        else:\n            pairCount += -1\n            if pairCount < 0: # if pairCount ever goes negative, it means we've seen an unmatched closed paren\n                return False\n    if pairCount == 0:\n            return True\n    return False\n\nif __name__ == \"__main__\":\n    goodTest = \"(the (quick (brown (fox))))\"\n    badTest = \"(the (quick brown (fox))))\"\n    weirdTest = \")()(\"\n    print isMatched(goodTest)\n    print isMatched(badTest)\n    print isMatched(weirdTest)",
     "language": "python",
     "metadata": {},
     "outputs": [
      {
       "output_type": "stream",
       "stream": "stdout",
       "text": "True\nFalse\nFalse\n"
      }
     ],
     "prompt_number": 1
    },
    {
     "cell_type": "markdown",
     "metadata": {},
     "source": "## Challenge\n\nInstead of a boolean value, return a constituent structure of lists. So the input `((Brigid) (followed (the detective)))` should yield `[[\"Brigid\"], [\"followed\", [\"the\", \"detective\"]]]`.\n\n**Note**: This is hard. The actual code is less important than thinking about how you'd do it. There are better solutions than this, and we'll talk more about parsing trees next week."
    },
    {
     "cell_type": "code",
     "collapsed": false,
     "input": "import re\n\ndef listParse(string):\n    \n    # To start, check if the string is a licit input, and return an error message if not\n    if not isMatched(string):\n        return \"This input is not grammatical.\"\n    \n    # First approach uses string.split, but it's long.\n    #nonwordsRE = re.compile(r'(\\W)')\n    #rawList = nonwordsRE.split(string)\n    #filteredList = []\n    #for item in rawList:\n    #    if item == '' or item == ' ':\n    #        pass\n    #    else:\n    #        filteredList.append(item)\n    \n    # Make a list of words and open and close parens\n    rawList = re.findall(r'\\w+|\\(|\\)', string)\n    \n    # We'll replace parts of the list iteratively the list of strings becomes a tree structure\n    # Preserve rawList, just in case\n    curtree = rawList\n    \n    # Danger! An infinite loop will be created if the code inside the while loop does not eventually get rid of all '(' items\n    while '(' in curtree:\n        \n        # Keep track of the index of the most recent open paren\n        lastOpen = None\n        \n        # Walk through curtree, remembering open parens and looking for a closing one\n        for i in range(len(curtree)):\n            v = curtree[i]\n            if v == '(':\n                # Save the index of the most recent open parens, to mark the start of the subtree\n                lastOpen = i\n            if v == ')':\n                # Get everything within the pair of parenthesis as a new list\n                subtree = curtree[lastOpen+1:i]\n            \n                # Make a new version of the tree, with the new list replacing whatever was in its place\n                newtree = curtree[:lastOpen]\n                newtree.append(subtree)\n                newtree += curtree[i+1:]\n            \n                # Some code so we can see what's happened on each loop\n                print '''Found a close paren at index {i} with input {curtree}\n                - Last open parens found at index {lastOpen}\n                - Subtree built this pass: {subtree}\n                - Input for next pass: {newtree}\n                '''.format(i=i, lastOpen=lastOpen, subtree=subtree, curtree=curtree, newtree=newtree)\n                \n                # Set curtree to newtree and break so we can loop through again\n                curtree = newtree\n                break\n            \n    return curtree\n\nif __name__ == \"__main__\":\n    maltese = \"((Brigid) (followed (the detective)))\"\n    print listParse(maltese)",
     "language": "python",
     "metadata": {},
     "outputs": [
      {
       "output_type": "stream",
       "stream": "stdout",
       "text": "Found a close paren at index 3 with input ['(', '(', 'Brigid', ')', '(', 'followed', '(', 'the', 'detective', ')', ')', ')']\n                - Last open parens found at index 1\n                - Subtree built this pass: ['Brigid']\n                - Input for next pass: ['(', ['Brigid'], '(', 'followed', '(', 'the', 'detective', ')', ')', ')']\n                \nFound a close paren at index 7 with input ['(', ['Brigid'], '(', 'followed', '(', 'the', 'detective', ')', ')', ')']\n                - Last open parens found at index 4\n                - Subtree built this pass: ['the', 'detective']\n                - Input for next pass: ['(', ['Brigid'], '(', 'followed', ['the', 'detective'], ')', ')']\n                \nFound a close paren at index 5 with input ['(', ['Brigid'], '(', 'followed', ['the', 'detective'], ')', ')']\n                - Last open parens found at index 2\n                - Subtree built this pass: ['followed', ['the', 'detective']]\n                - Input for next pass: ['(', ['Brigid'], ['followed', ['the', 'detective']], ')']\n                \nFound a close paren at index 3 with input ['(', ['Brigid'], ['followed', ['the', 'detective']], ')']\n                - Last open parens found at index 0\n                - Subtree built this pass: [['Brigid'], ['followed', ['the', 'detective']]]\n                - Input for next pass: [[['Brigid'], ['followed', ['the', 'detective']]]]\n                \n[[['Brigid'], ['followed', ['the', 'detective']]]]\n"
      }
     ],
     "prompt_number": 2
    },
    {
     "cell_type": "code",
     "collapsed": false,
     "input": "quick = \"((The (quick brown fox)) (jumped (over (the (lazy dog)))))\"\nprint listParse(quick)",
     "language": "python",
     "metadata": {},
     "outputs": [
      {
       "output_type": "stream",
       "stream": "stdout",
       "text": "Found a close paren at index 7 with input ['(', '(', 'The', '(', 'quick', 'brown', 'fox', ')', ')', '(', 'jumped', '(', 'over', '(', 'the', '(', 'lazy', 'dog', ')', ')', ')', ')', ')']\n                - Last open parens found at index 3\n                - Subtree built this pass: ['quick', 'brown', 'fox']\n                - Input for next pass: ['(', '(', 'The', ['quick', 'brown', 'fox'], ')', '(', 'jumped', '(', 'over', '(', 'the', '(', 'lazy', 'dog', ')', ')', ')', ')', ')']\n                \nFound a close paren at index 4 with input ['(', '(', 'The', ['quick', 'brown', 'fox'], ')', '(', 'jumped', '(', 'over', '(', 'the', '(', 'lazy', 'dog', ')', ')', ')', ')', ')']\n                - Last open parens found at index 1\n                - Subtree built this pass: ['The', ['quick', 'brown', 'fox']]\n                - Input for next pass: ['(', ['The', ['quick', 'brown', 'fox']], '(', 'jumped', '(', 'over', '(', 'the', '(', 'lazy', 'dog', ')', ')', ')', ')', ')']\n                \nFound a close paren at index 11 with input ['(', ['The', ['quick', 'brown', 'fox']], '(', 'jumped', '(', 'over', '(', 'the', '(', 'lazy', 'dog', ')', ')', ')', ')', ')']\n                - Last open parens found at index 8\n                - Subtree built this pass: ['lazy', 'dog']\n                - Input for next pass: ['(', ['The', ['quick', 'brown', 'fox']], '(', 'jumped', '(', 'over', '(', 'the', ['lazy', 'dog'], ')', ')', ')', ')']\n                \nFound a close paren at index 9 with input ['(', ['The', ['quick', 'brown', 'fox']], '(', 'jumped', '(', 'over', '(', 'the', ['lazy', 'dog'], ')', ')', ')', ')']\n                - Last open parens found at index 6\n                - Subtree built this pass: ['the', ['lazy', 'dog']]\n                - Input for next pass: ['(', ['The', ['quick', 'brown', 'fox']], '(', 'jumped', '(', 'over', ['the', ['lazy', 'dog']], ')', ')', ')']\n                \nFound a close paren at index 7 with input ['(', ['The', ['quick', 'brown', 'fox']], '(', 'jumped', '(', 'over', ['the', ['lazy', 'dog']], ')', ')', ')']\n                - Last open parens found at index 4\n                - Subtree built this pass: ['over', ['the', ['lazy', 'dog']]]\n                - Input for next pass: ['(', ['The', ['quick', 'brown', 'fox']], '(', 'jumped', ['over', ['the', ['lazy', 'dog']]], ')', ')']\n                \nFound a close paren at index 5 with input ['(', ['The', ['quick', 'brown', 'fox']], '(', 'jumped', ['over', ['the', ['lazy', 'dog']]], ')', ')']\n                - Last open parens found at index 2\n                - Subtree built this pass: ['jumped', ['over', ['the', ['lazy', 'dog']]]]\n                - Input for next pass: ['(', ['The', ['quick', 'brown', 'fox']], ['jumped', ['over', ['the', ['lazy', 'dog']]]], ')']\n                \nFound a close paren at index 3 with input ['(', ['The', ['quick', 'brown', 'fox']], ['jumped', ['over', ['the', ['lazy', 'dog']]]], ')']\n                - Last open parens found at index 0\n                - Subtree built this pass: [['The', ['quick', 'brown', 'fox']], ['jumped', ['over', ['the', ['lazy', 'dog']]]]]\n                - Input for next pass: [[['The', ['quick', 'brown', 'fox']], ['jumped', ['over', ['the', ['lazy', 'dog']]]]]]\n                \n[[['The', ['quick', 'brown', 'fox']], ['jumped', ['over', ['the', ['lazy', 'dog']]]]]]\n"
      }
     ],
     "prompt_number": 3
    },
    {
     "cell_type": "code",
     "collapsed": false,
     "input": "",
     "language": "python",
     "metadata": {},
     "outputs": []
    }
   ],
   "metadata": {}
  }
 ]
}